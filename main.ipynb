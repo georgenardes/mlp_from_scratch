{
 "cells": [
  {
   "cell_type": "code",
   "execution_count": 1,
   "metadata": {},
   "outputs": [],
   "source": [
    "import numpy as np\n",
    "import keras \n",
    "import tensorflow as tf"
   ]
  },
  {
   "cell_type": "code",
   "execution_count": 2,
   "metadata": {},
   "outputs": [
    {
     "name": "stdout",
     "output_type": "stream",
     "text": [
      "(60000, 784) (10000, 784) (60000, 10) (10000, 10)\n"
     ]
    }
   ],
   "source": [
    "\n",
    "\n",
    "# Load MNIST dataset\n",
    "(x_train, y_train), (x_test, y_test) = tf.keras.datasets.mnist.load_data()\n",
    "assert x_train.shape == (60000, 28, 28)\n",
    "assert x_test.shape == (10000, 28, 28)\n",
    "assert y_train.shape == (60000,)\n",
    "assert y_test.shape == (10000,)\n",
    "\n",
    "# normalize\n",
    "x_train = x_train.reshape(60000, -1).astype(np.float32) / 255.\n",
    "x_test = x_test.reshape(10000, -1).astype(np.float32) / 255.\n",
    "\n",
    "# to one-hot\n",
    "y_train = tf.one_hot(y_train, 10, 1., 0.).numpy()\n",
    "y_test = tf.one_hot(y_test, 10, 1., 0.).numpy()\n",
    "\n",
    "# Define neural network inputnoutput\n",
    "input_size = x_train.shape[1]\n",
    "output_size = y_train.shape[1]\n",
    "\n",
    "\n",
    "print(x_train.shape,\n",
    "x_test.shape,\n",
    "y_train.shape,\n",
    "y_test.shape)"
   ]
  },
  {
   "cell_type": "code",
   "execution_count": 3,
   "metadata": {},
   "outputs": [
    {
     "name": "stdout",
     "output_type": "stream",
     "text": [
      "256 784\n",
      "256 256\n",
      "10 256\n"
     ]
    }
   ],
   "source": [
    "# this is just for working with notebooks and classes outside the scope\n",
    "import importlib\n",
    "import NeuralNetwork\n",
    "import Activations\n",
    "importlib.reload(NeuralNetwork)\n",
    "importlib.reload(Activations)\n",
    "NeuralNetwork = NeuralNetwork.NeuralNetwork\n",
    "########################################################################\n",
    "\n",
    "\n",
    "# Create and train the neural network\n",
    "neural_network = NeuralNetwork(input_size, output_size)"
   ]
  },
  {
   "cell_type": "code",
   "execution_count": 7,
   "metadata": {},
   "outputs": [
    {
     "name": "stdout",
     "output_type": "stream",
     "text": [
      "Epoch 1/1, Loss: 0.0003530288528405445\n",
      "Accuracy: 97.94%\n"
     ]
    }
   ],
   "source": [
    "neural_network.train(x_train, y_train, learning_rate=0.001, num_epochs=10, batch_size=64)\n",
    "\n",
    "# Make predictions on the test set\n",
    "y_pred = neural_network.predict(x_test)\n",
    "\n",
    "# Calculate accuracy\n",
    "accuracy = np.mean(y_pred == np.argmax(y_test, axis=1))\n",
    "print(f\"Accuracy: {accuracy * 100}%\")"
   ]
  },
  {
   "cell_type": "code",
   "execution_count": 202,
   "metadata": {},
   "outputs": [
    {
     "name": "stdout",
     "output_type": "stream",
     "text": [
      "float  [-13.29367653  -3.53350411   0.60825117  -0.44525403   4.07995509]\n",
      "stchr0 [-13  -3   1   0   4]\n",
      "stchr1 [-13.31  -3.46   0.67  -0.45   4.08]\n",
      "round  [-13  -4   1   0   4]\n"
     ]
    }
   ],
   "source": [
    "def stochastic_rounding(x):\n",
    "\n",
    "    x_int = x.astype(np.int32)\n",
    "    x_frac = np.abs(x - x_int)\n",
    "    rng = np.random.random(x_int.shape)\n",
    "\n",
    "    # positive\n",
    "    rounded_pos = np.where(x_frac > rng, x_int + 1, x_int)\n",
    "\n",
    "    # negative\n",
    "    rounded_neg = np.where(x_frac > rng, x_int - 1, x_int)\n",
    "\n",
    "    rounded = np.where(x < 0, rounded_neg, rounded_pos)\n",
    "    return rounded\n",
    "\n",
    "x = np.random.normal(0, 5, (5)) \n",
    "print(\"float \", x)\n",
    "rx = 0\n",
    "it = 100\n",
    "for _ in range(it):\n",
    "    rx += stochastic_rounding(x)\n",
    "\n",
    "rx = rx.astype(np.float32) / it\n",
    "print(\"stchr0\", stochastic_rounding(x))\n",
    "print(\"stchr1\", rx)\n",
    "print(\"round \", np.around(x).astype(np.int32))"
   ]
  },
  {
   "cell_type": "code",
   "execution_count": 206,
   "metadata": {},
   "outputs": [
    {
     "name": "stdout",
     "output_type": "stream",
     "text": [
      "float  [ 0.13540721  0.01973048  0.09533211  0.09371898 -0.04145135]\n",
      "quant0 [ 0.125     0.015625  0.0625    0.0625   -0.03125 ]\n",
      "quant1 [ 0.125     0.015625  0.125     0.0625   -0.03125 ]\n",
      "quant2 [ 0.125     0.015625  0.0625    0.0625   -0.03125 ]\n",
      "-------\n",
      "float  [ 0.22523366  0.18175557  0.07043789  0.01502677 -0.51716829]\n",
      "quant0 [ 0.25      0.125     0.0625    0.015625 -0.5     ]\n",
      "quant1 [ 0.25      0.125     0.0625    0.015625 -0.5     ]\n",
      "quant2 [ 0.25      0.125     0.0625    0.015625 -0.5     ]\n",
      "-------\n",
      "float  [-0.10867882  0.13076258 -0.07715446 -0.01135837 -0.29902023]\n",
      "quant0 [-0.125     0.125    -0.0625   -0.015625 -0.25    ]\n",
      "quant1 [-0.125     0.125    -0.0625   -0.015625 -0.5     ]\n",
      "quant2 [-0.0625    0.125    -0.125    -0.015625 -0.25    ]\n",
      "-------\n",
      "float  [0.33149954 0.03191055 0.29109754 0.01527782 0.10594643]\n",
      "quant0 [0.5      0.03125  0.25     0.015625 0.0625  ]\n",
      "quant1 [0.25     0.0625   0.5      0.015625 0.125   ]\n",
      "quant2 [0.25     0.03125  0.5      0.015625 0.0625  ]\n",
      "-------\n",
      "float  [-0.06090848  0.18240389  0.25836199  0.05387103  0.2192585 ]\n",
      "quant0 [-0.0625  0.25    0.25    0.0625  0.25  ]\n",
      "quant1 [-0.0625  0.25    0.25    0.0625  0.25  ]\n",
      "quant2 [-0.0625  0.25    0.25    0.0625  0.125 ]\n",
      "-------\n",
      "float  [-0.20285285  0.26688526 -0.25368218  0.14005449  0.1319401 ]\n",
      "quant0 [-0.25   0.25  -0.25   0.125  0.125]\n",
      "quant1 [-0.25   0.25  -0.25   0.125  0.125]\n",
      "quant2 [-0.25   0.25  -0.25   0.125  0.125]\n",
      "-------\n",
      "float  [-0.25979366  0.08837046 -0.1250948   0.08756376  0.39402808]\n",
      "quant0 [-0.25    0.0625 -0.125   0.0625  0.25  ]\n",
      "quant1 [-0.25   0.125 -0.125  0.125  0.5  ]\n",
      "quant2 [-0.25    0.0625 -0.125   0.0625  0.25  ]\n",
      "-------\n",
      "float  [-0.10266443 -0.21913501  0.20332204 -0.08548706 -0.34920134]\n",
      "quant0 [-0.125  -0.125   0.125  -0.0625 -0.25  ]\n",
      "quant1 [-0.0625 -0.25    0.25   -0.125  -0.5   ]\n",
      "quant2 [-0.125 -0.25   0.125 -0.125 -0.25 ]\n",
      "-------\n",
      "float  [-0.13277623 -0.30842701  0.07542402 -0.05051843  0.27469455]\n",
      "quant0 [-0.125  -0.5     0.0625 -0.0625  0.25  ]\n",
      "quant1 [-0.125  -0.25    0.0625 -0.0625  0.25  ]\n",
      "quant2 [-0.125   -0.25     0.0625  -0.03125  0.25   ]\n",
      "-------\n",
      "float  [ 0.08148104 -0.21166095 -0.30706209 -0.59337309  0.18446875]\n",
      "quant0 [ 0.125 -0.25  -0.25  -0.5    0.25 ]\n",
      "quant1 [ 0.125 -0.125 -0.5   -0.5    0.125]\n",
      "quant2 [ 0.125 -0.25  -0.25  -0.5    0.25 ]\n",
      "-------\n"
     ]
    }
   ],
   "source": [
    "\n",
    "def quantize(x, round_stoch = True):\n",
    "    \"\"\" exponentiation and quantization function \"\"\"\n",
    "\n",
    "    # just to avoid numerical problems\n",
    "    eps = 1e-8\n",
    "\n",
    "    s = np.sign(x)\n",
    "\n",
    "    abs_x = np.abs(x)\n",
    "\n",
    "    cliped_abs_x = np.where(abs_x < eps, eps, abs_x)\n",
    "    cliped_abs_x = np.where(cliped_abs_x > 1, 1, cliped_abs_x)\n",
    "\n",
    "    # gets the exponent with base 2\n",
    "    exp = np.log2(cliped_abs_x)\n",
    "\n",
    "    # round to nearest and cast to int (use stochastic rounding)\n",
    "    if round_stoch:\n",
    "        round_exp = stochastic_rounding(exp)\n",
    "    else:\n",
    "        round_exp = (np.round(exp)).astype(np.int32)\n",
    "\n",
    "    # clip to the limit of sx4\n",
    "    clip_exp = np.where(round_exp < -7, -7, round_exp)\n",
    "\n",
    "    # convert to float32 again\n",
    "    qx = s * np.power(2., clip_exp)\n",
    "    return qx\n",
    "\n",
    "\n",
    "for _ in range(10):\n",
    "    x = np.random.normal(0, 0.2, (5)) \n",
    "    print(\"float \", x)\n",
    "    print(\"quant0\", quantize(x))\n",
    "    print(\"quant1\", quantize(x))\n",
    "    print(\"quant2\", quantize(x))    \n",
    "    print(\"-------\")"
   ]
  },
  {
   "cell_type": "code",
   "execution_count": null,
   "metadata": {},
   "outputs": [],
   "source": []
  }
 ],
 "metadata": {
  "kernelspec": {
   "display_name": "Python 3",
   "language": "python",
   "name": "python3"
  },
  "language_info": {
   "codemirror_mode": {
    "name": "ipython",
    "version": 3
   },
   "file_extension": ".py",
   "mimetype": "text/x-python",
   "name": "python",
   "nbconvert_exporter": "python",
   "pygments_lexer": "ipython3",
   "version": "3.9.9"
  },
  "orig_nbformat": 4
 },
 "nbformat": 4,
 "nbformat_minor": 2
}
