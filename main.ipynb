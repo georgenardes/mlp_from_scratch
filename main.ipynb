{
 "cells": [
  {
   "cell_type": "code",
   "execution_count": 1,
   "metadata": {},
   "outputs": [],
   "source": [
    "import numpy as np\n",
    "import tensorflow as tf"
   ]
  },
  {
   "attachments": {},
   "cell_type": "markdown",
   "metadata": {},
   "source": [
    "# Load Dataset"
   ]
  },
  {
   "cell_type": "code",
   "execution_count": 2,
   "metadata": {},
   "outputs": [
    {
     "name": "stdout",
     "output_type": "stream",
     "text": [
      "(60000, 784) (10000, 784) (60000, 10) (10000, 10)\n"
     ]
    }
   ],
   "source": [
    "def load_mnist():\n",
    "        \n",
    "    # Load MNIST dataset\n",
    "    (x_train, y_train), (x_test, y_test) = tf.keras.datasets.mnist.load_data()\n",
    "    assert x_train.shape == (60000, 28, 28)\n",
    "    assert x_test.shape == (10000, 28, 28)\n",
    "    assert y_train.shape == (60000,)\n",
    "    assert y_test.shape == (10000,)\n",
    "\n",
    "    # normalize\n",
    "    x_train = x_train.reshape(60000, -1).astype(np.float32) / 255.\n",
    "    x_test = x_test.reshape(10000, -1).astype(np.float32) / 255.\n",
    "\n",
    "    # to one-hot\n",
    "    y_train = tf.one_hot(y_train, 10, 1., 0.).numpy()\n",
    "    y_test = tf.one_hot(y_test, 10, 1., 0.).numpy()\n",
    "\n",
    "    return x_train, x_test, y_train, y_test\n",
    "\n",
    "\n",
    "def load_fashion_mnist():\n",
    "        \n",
    "    # Load MNIST dataset\n",
    "    (x_train, y_train), (x_test, y_test) = tf.keras.datasets.fashion_mnist.load_data()\n",
    "    assert x_train.shape == (60000, 28, 28)\n",
    "    assert x_test.shape == (10000, 28, 28)\n",
    "    assert y_train.shape == (60000,)\n",
    "    assert y_test.shape == (10000,)\n",
    "\n",
    "    # normalize\n",
    "    x_train = x_train.reshape(60000, -1).astype(np.float32) / 255.\n",
    "    x_test = x_test.reshape(10000, -1).astype(np.float32) / 255.\n",
    "\n",
    "    # to one-hot\n",
    "    y_train = tf.one_hot(y_train, 10, 1., 0.).numpy()\n",
    "    y_test = tf.one_hot(y_test, 10, 1., 0.).numpy()\n",
    "\n",
    "    return x_train, x_test, y_train, y_test\n",
    "\n",
    "def load_cifar10():\n",
    "        \n",
    "    # Load MNIST dataset\n",
    "    (x_train, y_train), (x_test, y_test) = tf.keras.datasets.cifar10.load_data()\n",
    "    assert x_train.shape == (50000, 32, 32, 3)\n",
    "    assert x_test.shape == (10000, 32, 32, 3)\n",
    "\n",
    "    print(y_train.shape)\n",
    "    assert y_train.shape == (50000,1)\n",
    "    assert y_test.shape == (10000,1)\n",
    "\n",
    "    # normalize\n",
    "    x_train = x_train.reshape(50000, -1).astype(np.float32) / 255.\n",
    "    x_test = x_test.reshape(10000, -1).astype(np.float32) / 255.\n",
    "\n",
    "    # to one-hot\n",
    "    y_train = tf.one_hot(y_train[:, 0], 10, 1., 0.).numpy()\n",
    "    y_test = tf.one_hot(y_test[:, 0], 10, 1., 0.).numpy()\n",
    "\n",
    "    return x_train, x_test, y_train, y_test\n",
    "\n",
    "\n",
    "x_train, x_test, y_train, y_test = load_mnist()\n",
    "\n",
    "\n",
    "# Define neural network inputnoutput\n",
    "input_size = x_train.shape[1]\n",
    "output_size = y_train.shape[1]\n",
    "\n",
    "print(x_train.shape,\n",
    "x_test.shape,\n",
    "y_train.shape,\n",
    "y_test.shape)"
   ]
  },
  {
   "attachments": {},
   "cell_type": "markdown",
   "metadata": {},
   "source": [
    "### Define NN"
   ]
  },
  {
   "cell_type": "code",
   "execution_count": null,
   "metadata": {},
   "outputs": [],
   "source": [
    "# this is just for working with notebooks and classes outside the scope\n",
    "# import importlib\n",
    "# import NeuralNetwork\n",
    "# import Activations\n",
    "# importlib.reload(NeuralNetwork)\n",
    "# importlib.reload(Activations)\n",
    "# NeuralNetwork = NeuralNetwork.NeuralNetwork\n",
    "########################################################################\n",
    "\n",
    "import NeuralNetwork\n",
    "NeuralNetwork = NeuralNetwork.NeuralNetwork\n",
    "\n",
    "\n",
    "# Create and train the neural network\n",
    "neural_network = NeuralNetwork(input_size, output_size)"
   ]
  },
  {
   "cell_type": "code",
   "execution_count": null,
   "metadata": {},
   "outputs": [],
   "source": [
    "neural_network.train(x_train, y_train, learning_rate=0.001, num_epochs=10, batch_size=64)\n",
    "\n",
    "# Make predictions on the test set\n",
    "y_pred = neural_network.predict(x_test)\n",
    "\n",
    "# Calculate accuracy\n",
    "accuracy = np.mean(y_pred == np.argmax(y_test, axis=1))\n",
    "print(f\"Accuracy: {accuracy * 100}%\")"
   ]
  },
  {
   "attachments": {},
   "cell_type": "markdown",
   "metadata": {},
   "source": [
    "# Teste de normalização de pesos e ativações para inferência."
   ]
  },
  {
   "attachments": {},
   "cell_type": "markdown",
   "metadata": {},
   "source": [
    "## Implementado função de normalização para inferência. \n",
    "\n",
    "Descoberto equação para normalizar pesos e resultados intermediários antes das ativações."
   ]
  },
  {
   "cell_type": "code",
   "execution_count": null,
   "metadata": {},
   "outputs": [],
   "source": [
    "import FullyConnectedLayer \n",
    "import Activations\n",
    "import matplotlib.pyplot as plt\n",
    "\n",
    "\n",
    "# take the original nn\n",
    "neural_network = copy.deepcopy(orig_nn)\n",
    "# Make predictions on the test set\n",
    "y_pred = neural_network.predict(x_test)\n",
    "# Calculate accuracy\n",
    "accuracy = np.mean(y_pred == np.argmax(y_test, axis=1))\n",
    "print(f\"Accuracy: {accuracy * 100}%\")\n",
    "\n",
    "\n",
    "x = copy.deepcopy(x_test[0:1000])\n",
    "print(\"input image\")\n",
    "y_true = y_test[0:1000]\n",
    "# print(\"label =\", y_true[0:5])\n",
    "\n",
    "print(f\"correct output    {np.argmax(y_true[0:5], -1)}\")\n",
    "z = neural_network.forward(x)\n",
    "# oh = neural_network.softmax.forward(z)\n",
    "print(f\"predicted output  {np.argmax(z[0:5], -1)}\")\n",
    "# print(f\"predicted \\n {np.round(z[0:5], 4)}\")\n",
    "\n",
    "\n",
    "x_scale_list = []\n",
    "w_scale_list = []\n",
    "w_list = []\n",
    "b_list = []\n",
    "\n",
    "\n",
    "# escala da entrada\n",
    "x_scale = np.max(np.abs(x))\n",
    "\n",
    "\n",
    "for i, layer in enumerate(neural_network.layers):\n",
    "    print(f\"layer {i}\")                \n",
    "\n",
    "    # scale weights and biases\n",
    "    if isinstance(layer, FullyConnectedLayer.FullyConnectedLayer):        \n",
    "        print(\"FC\")\n",
    "        w_scale = np.max(np.abs(layer.weights))               \n",
    "        layer.weights = layer.weights / w_scale\n",
    "        layer.biases = layer.biases / (w_scale*x_scale)\n",
    "    \n",
    "        cliped_value = np.where(layer.weights < 1e-8, 1e-8, layer.weights)\n",
    "        plt.hist(x=np.log2(np.ravel(cliped_value)), bins=16)\n",
    "        plt.title(f\"histograma layer {i} weights \")\n",
    "        plt.show()\n",
    "    \n",
    "\n",
    "\n",
    "    # não escala se for relu\n",
    "    if isinstance(layer, Activations.ReLU): # funcionou uma vez       \n",
    "        print(\"ReLU\")\n",
    "        \n",
    "        # forward\n",
    "        x = layer.forward(x) \n",
    "    \n",
    "    # pega a escala da saída e escala-la    \n",
    "    else:\n",
    "        print(\"Scaling  and cliping \")\n",
    "        \n",
    "        # forward\n",
    "        x = layer.forward(x) * (w_scale*x_scale)\n",
    "\n",
    "        # pega a escala de x\n",
    "        x_scale = np.max(np.abs(x))\n",
    "        x = x / x_scale\n",
    "        \n",
    "        \n",
    "\n",
    "\n",
    "    #### \n",
    "    cliped_value = np.where(x < 1e-8, 1e-8, x)\n",
    "    plt.hist(x=np.ravel(np.log2(cliped_value)), bins=16)\n",
    "    plt.title(f\"histograma layer {i} output \")\n",
    "    plt.show()\n",
    "\n",
    "\n",
    "\n",
    "print(f\"normalized output {np.argmax(x[0:5], -1)}\")      \n",
    "# print(f\"normalized output \\n{np.round(x[0:5], 4)}\")\n",
    "\n",
    "\n"
   ]
  },
  {
   "attachments": {},
   "cell_type": "markdown",
   "metadata": {},
   "source": [
    "# Teste de normalização de pesos e ativações durante treinamento"
   ]
  },
  {
   "cell_type": "code",
   "execution_count": 9,
   "metadata": {},
   "outputs": [],
   "source": [
    "# this is just for working with notebooks and classes outside the scope\n",
    "import importlib\n",
    "import NeuralNetwork\n",
    "import Activations\n",
    "import FullyConnectedLayer\n",
    "importlib.reload(NeuralNetwork)\n",
    "importlib.reload(Activations)\n",
    "importlib.reload(FullyConnectedLayer)\n",
    "NeuralNetworkWithScale = NeuralNetwork.NeuralNetworkWithScale\n",
    "########################################################################\n",
    "\n",
    "NeuralNetworkWithScale = NeuralNetwork.NeuralNetworkWithScale\n",
    "\n",
    "# Create and train the neural network\n",
    "neural_network_with_scale = NeuralNetworkWithScale(input_size, output_size)"
   ]
  },
  {
   "attachments": {},
   "cell_type": "markdown",
   "metadata": {},
   "source": [
    "### Loop de treinamento aqui"
   ]
  },
  {
   "cell_type": "code",
   "execution_count": null,
   "metadata": {},
   "outputs": [],
   "source": [
    "neural_network_with_scale.train(x_train, y_train, learning_rate=0.001, num_epochs=10, batch_size=64)\n",
    "\n",
    "# Make predictions on the test set\n",
    "y_pred = neural_network_with_scale.predict(x_test)\n",
    "\n",
    "# Calculate accuracy\n",
    "accuracy = np.mean(y_pred == np.argmax(y_test, axis=1))\n",
    "print(f\"Accuracy: {accuracy * 100}%\")"
   ]
  },
  {
   "cell_type": "code",
   "execution_count": 4,
   "metadata": {},
   "outputs": [
    {
     "name": "stdout",
     "output_type": "stream",
     "text": [
      "Epoch 1/9, Loss: 0.005455362190856681\n",
      "Epoch 2/9, Loss: 0.002565272722534852\n",
      "Epoch 3/9, Loss: 0.0018484947781439156\n",
      "Epoch 4/9, Loss: 0.0014427785066284608\n",
      "Epoch 5/9, Loss: 0.001167027992008664\n",
      "Epoch 6/9, Loss: 0.000965096818211229\n",
      "Epoch 7/9, Loss: 0.0008097365157787928\n",
      "Epoch 8/9, Loss: 0.0006849454473564301\n",
      "Epoch 9/9, Loss: 0.0005826861295651925\n"
     ]
    }
   ],
   "source": [
    "# descrever loop de treinamento aqui\n",
    "\n",
    "\n",
    "inputs = x_train\n",
    "targets = y_train\n",
    "learning_rate = 0.001\n",
    "num_epochs = 10\n",
    "batch_size = 64\n",
    "\n",
    "\n",
    "\n",
    "for epoch in range(num_epochs):\n",
    "    loss = 0.0\n",
    "    for batch_inputs, y_true in neural_network_with_scale.get_batches(inputs, targets, batch_size):\n",
    "        \n",
    "        # Forward pass\n",
    "        z = neural_network_with_scale.forward(batch_inputs)\n",
    "\n",
    "        # apply softmax\n",
    "        y_pred = neural_network_with_scale.softmax.forward(z)\n",
    "\n",
    "        # Compute loss\n",
    "        loss += neural_network_with_scale.cross_entropy_loss_with_logits(y_pred, y_true)\n",
    "        \n",
    "        # Compute the derivative of the loss\n",
    "        dz = neural_network_with_scale.cross_entropy_loss_with_logits_derivative(y_pred, y_true)\n",
    "        \n",
    "\n",
    "        #####################################\n",
    "        # backward pass\n",
    "        grad_output = dz\n",
    "        \n",
    "        # faz essa multiplicação para padronizar operações de retropropagação nas camadas\n",
    "        grad_output = grad_output * neural_network_with_scale.layers[-1].output_scale\n",
    "\n",
    "        for layer in reversed(neural_network_with_scale.layers):\n",
    "            # print(grad_output)\n",
    "            grad_output = layer.backward(grad_output, learning_rate)\n",
    "        \n",
    "        #####################################\n",
    "\n",
    "    loss /= len(inputs)\n",
    "    print(f\"Epoch {epoch+1}/{num_epochs}, Loss: {loss}\")\n"
   ]
  },
  {
   "cell_type": "code",
   "execution_count": 10,
   "metadata": {},
   "outputs": [
    {
     "name": "stdout",
     "output_type": "stream",
     "text": [
      "Epoch 1/10, Loss: 0.005363285104343419\n",
      "Epoch 2/10, Loss: 0.0025496096538577453\n",
      "Epoch 3/10, Loss: 0.001817411476104666\n",
      "Epoch 4/10, Loss: 0.0014007349680956757\n",
      "Epoch 5/10, Loss: 0.0011240193748920438\n",
      "Epoch 6/10, Loss: 0.0009363827894721064\n",
      "Epoch 7/10, Loss: 0.0008016242923464735\n",
      "Epoch 8/10, Loss: 0.0006993736998530337\n",
      "Epoch 9/10, Loss: 0.0006309280523968277\n",
      "Epoch 10/10, Loss: 0.0005599717231831696\n"
     ]
    }
   ],
   "source": [
    "# descrever loop de treinamento aqui\n",
    "\n",
    "\n",
    "inputs = x_train\n",
    "targets = y_train\n",
    "learning_rate = 0.001\n",
    "num_epochs = 10\n",
    "batch_size = 64\n",
    "\n",
    "\n",
    "\n",
    "for epoch in range(num_epochs):\n",
    "    loss = 0.0\n",
    "    for batch_inputs, y_true in neural_network_with_scale.get_batches(inputs, targets, batch_size):\n",
    "        \n",
    "        # Forward pass\n",
    "        z = neural_network_with_scale.forward(batch_inputs)\n",
    "\n",
    "        # apply softmax\n",
    "        y_pred = neural_network_with_scale.softmax.forward(z)\n",
    "\n",
    "        # Compute loss\n",
    "        loss += neural_network_with_scale.cross_entropy_loss_with_logits(y_pred, y_true)\n",
    "        \n",
    "        # Compute the derivative of the loss\n",
    "        dz = neural_network_with_scale.cross_entropy_loss_with_logits_derivative(y_pred, y_true)\n",
    "        \n",
    "\n",
    "        #####################################\n",
    "        # backward pass\n",
    "        grad_output = dz\n",
    "        \n",
    "\n",
    "        # normalized gradients\n",
    "        grad_output_scale = np.max(np.abs(grad_output))               \n",
    "\n",
    "        # faz essa multiplicação para padronizar operações de retropropagação nas camadas\n",
    "        grad_output = grad_output * neural_network_with_scale.layers[-1].output_scale / grad_output_scale\n",
    "\n",
    "        for layer in reversed(neural_network_with_scale.layers):\n",
    "            if isinstance(layer, FullyConnectedLayer.FullyConnectedLayerWithScale):\n",
    "                grad_output = layer.backward_with_scale(grad_output, grad_output_scale, learning_rate)\n",
    "                grad_output_scale = layer.grad_output_scale                \n",
    "\n",
    "            else:\n",
    "                grad_output = layer.backward(grad_output, learning_rate)\n",
    "        #####################################\n",
    "\n",
    "    loss /= len(inputs)\n",
    "    print(f\"Epoch {epoch+1}/{num_epochs}, Loss: {loss}\")\n"
   ]
  },
  {
   "cell_type": "code",
   "execution_count": 11,
   "metadata": {},
   "outputs": [
    {
     "name": "stdout",
     "output_type": "stream",
     "text": [
      "Accuracy: 97.09%\n"
     ]
    }
   ],
   "source": [
    "# Make predictions on the test set\n",
    "y_pred = neural_network_with_scale.predict(x_test)\n",
    "\n",
    "# Calculate accuracy\n",
    "accuracy = np.mean(y_pred == np.argmax(y_test, axis=1))\n",
    "print(f\"Accuracy: {accuracy * 100}%\")"
   ]
  },
  {
   "attachments": {},
   "cell_type": "markdown",
   "metadata": {},
   "source": [
    "# "
   ]
  }
 ],
 "metadata": {
  "kernelspec": {
   "display_name": "Python 3",
   "language": "python",
   "name": "python3"
  },
  "language_info": {
   "codemirror_mode": {
    "name": "ipython",
    "version": 3
   },
   "file_extension": ".py",
   "mimetype": "text/x-python",
   "name": "python",
   "nbconvert_exporter": "python",
   "pygments_lexer": "ipython3",
   "version": "3.10.9"
  },
  "orig_nbformat": 4
 },
 "nbformat": 4,
 "nbformat_minor": 2
}
