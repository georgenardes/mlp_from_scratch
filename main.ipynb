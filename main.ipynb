{
 "cells": [
  {
   "cell_type": "code",
   "execution_count": null,
   "metadata": {},
   "outputs": [],
   "source": [
    "import numpy as np\n",
    "import cupy as cp\n",
    "import tensorflow as tf\n",
    "from dataset import load_mnist"
   ]
  },
  {
   "attachments": {},
   "cell_type": "markdown",
   "metadata": {},
   "source": [
    "# Load Dataset"
   ]
  },
  {
   "cell_type": "code",
   "execution_count": null,
   "metadata": {},
   "outputs": [],
   "source": [
    "x_train, x_test, y_train, y_test = load_mnist()\n",
    "\n",
    "\n",
    "# Define neural network inputnoutput\n",
    "input_size = x_train.shape[1]\n",
    "output_size = y_train.shape[1]\n",
    "\n",
    "print(x_train.shape,\n",
    "x_test.shape,\n",
    "y_train.shape,\n",
    "y_test.shape)"
   ]
  },
  {
   "attachments": {},
   "cell_type": "markdown",
   "metadata": {},
   "source": [
    "# Experimento FP32"
   ]
  },
  {
   "cell_type": "code",
   "execution_count": null,
   "metadata": {},
   "outputs": [],
   "source": [
    "# this is just for working with notebooks and classes outside the scope\n",
    "# import importlib\n",
    "# import NeuralNetwork\n",
    "# import Activations\n",
    "# importlib.reload(NeuralNetwork)\n",
    "# importlib.reload(Activations)\n",
    "# NeuralNetwork = NeuralNetwork.NeuralNetwork\n",
    "########################################################################\n",
    "\n",
    "import NeuralNetwork\n",
    "NeuralNetwork = NeuralNetwork.NeuralNetwork\n",
    "\n",
    "\n",
    "# Create and train the neural network\n",
    "neural_network = NeuralNetwork(input_size, output_size)"
   ]
  },
  {
   "cell_type": "code",
   "execution_count": null,
   "metadata": {},
   "outputs": [],
   "source": [
    "neural_network.train(x_train, y_train, learning_rate=0.001, num_epochs=3, batch_size=64)\n",
    "\n",
    "# Make predictions on the test set\n",
    "y_pred = neural_network.predict(x_test)\n",
    "\n",
    "# Calculate accuracy\n",
    "accuracy = np.mean(y_pred == np.argmax(y_test, axis=1))\n",
    "print(f\"Accuracy: {accuracy * 100}%\")"
   ]
  },
  {
   "attachments": {},
   "cell_type": "markdown",
   "metadata": {},
   "source": [
    "# Teste de normalização de pesos e ativações durante treinamento"
   ]
  },
  {
   "cell_type": "code",
   "execution_count": null,
   "metadata": {},
   "outputs": [],
   "source": [
    "# this is just for working with notebooks and classes outside the scope\n",
    "import importlib\n",
    "import NeuralNetwork\n",
    "import Activations\n",
    "import FullyConnectedLayer\n",
    "importlib.reload(NeuralNetwork)\n",
    "importlib.reload(Activations)\n",
    "importlib.reload(FullyConnectedLayer)\n",
    "NeuralNetworkWithScale = NeuralNetwork.NeuralNetworkWithScale\n",
    "########################################################################\n",
    "\n",
    "NeuralNetworkWithScale = NeuralNetwork.NeuralNetworkWithScale\n",
    "\n",
    "# Create and train the neural network\n",
    "neural_network_with_scale = NeuralNetworkWithScale(input_size, output_size)"
   ]
  },
  {
   "attachments": {},
   "cell_type": "markdown",
   "metadata": {},
   "source": [
    "### Loop de treinamento aqui"
   ]
  },
  {
   "cell_type": "code",
   "execution_count": null,
   "metadata": {},
   "outputs": [],
   "source": [
    "neural_network_with_scale.train(x_train, y_train, learning_rate=0.001, num_epochs=10, batch_size=64)\n",
    "\n",
    "# Make predictions on the test set\n",
    "y_pred = neural_network_with_scale.predict(x_test)\n",
    "\n",
    "# Calculate accuracy\n",
    "accuracy = np.mean(y_pred == np.argmax(y_test, axis=1))\n",
    "print(f\"Accuracy: {accuracy * 100}%\")"
   ]
  },
  {
   "cell_type": "markdown",
   "metadata": {},
   "source": [
    "# Teste de normalização dos erros retropropagados"
   ]
  },
  {
   "cell_type": "code",
   "execution_count": null,
   "metadata": {},
   "outputs": [],
   "source": [
    "# this is just for working with notebooks and classes outside the scope\n",
    "import importlib\n",
    "import NeuralNetwork\n",
    "import Activations\n",
    "import FullyConnectedLayer\n",
    "importlib.reload(NeuralNetwork)\n",
    "importlib.reload(Activations)\n",
    "importlib.reload(FullyConnectedLayer)\n",
    "NeuralNetworkWithScale = NeuralNetwork.NeuralNetworkWithScale\n",
    "########################################################################\n",
    "\n",
    "NeuralNetworkWithScale = NeuralNetwork.NeuralNetworkWithScale\n",
    "\n",
    "# Create and train the neural network\n",
    "neural_network_with_scale = NeuralNetworkWithScale(input_size, output_size)"
   ]
  },
  {
   "cell_type": "code",
   "execution_count": null,
   "metadata": {},
   "outputs": [],
   "source": [
    "# descrever loop de treinamento aqui\n",
    "\n",
    "\n",
    "inputs = x_train\n",
    "targets = y_train\n",
    "learning_rate = 0.001\n",
    "num_epochs = 10\n",
    "batch_size = 64\n",
    "\n",
    "\n",
    "\n",
    "for epoch in range(num_epochs):\n",
    "    loss = 0.0\n",
    "    for batch_inputs, y_true in neural_network_with_scale.get_batches(inputs, targets, batch_size):\n",
    "        \n",
    "        # Forward pass\n",
    "        z = neural_network_with_scale.forward(batch_inputs)\n",
    "\n",
    "        # apply softmax\n",
    "        y_pred = neural_network_with_scale.softmax.forward(z)\n",
    "\n",
    "        # Compute loss\n",
    "        loss += neural_network_with_scale.cross_entropy_loss_with_logits(y_pred, y_true)\n",
    "        \n",
    "        # Compute the derivative of the loss\n",
    "        dz = neural_network_with_scale.cross_entropy_loss_with_logits_derivative(y_pred, y_true)\n",
    "        \n",
    "\n",
    "        #####################################\n",
    "        # backward pass\n",
    "        grad_output = dz\n",
    "        \n",
    "\n",
    "        # normalized gradients\n",
    "        grad_output_scale = np.max(np.abs(grad_output))               \n",
    "\n",
    "        # faz essa multiplicação para padronizar operações de retropropagação nas camadas\n",
    "        grad_output = grad_output * neural_network_with_scale.layers[-1].output_scale / grad_output_scale\n",
    "\n",
    "        for layer in reversed(neural_network_with_scale.layers):\n",
    "            if isinstance(layer, FullyConnectedLayer.FullyConnectedLayerWithScale):\n",
    "                grad_output = layer.backward_with_scale(grad_output, grad_output_scale, learning_rate)\n",
    "                grad_output_scale = layer.grad_output_scale                \n",
    "\n",
    "            else:\n",
    "                grad_output = layer.backward(grad_output, learning_rate)\n",
    "        #####################################\n",
    "\n",
    "    loss /= len(inputs)\n",
    "    print(f\"Epoch {epoch+1}/{num_epochs}, Loss: {loss}\")\n"
   ]
  },
  {
   "cell_type": "code",
   "execution_count": null,
   "metadata": {},
   "outputs": [],
   "source": [
    "# Make predictions on the test set\n",
    "y_pred = neural_network_with_scale.predict(x_test)\n",
    "\n",
    "# Calculate accuracy\n",
    "accuracy = np.mean(y_pred == np.argmax(y_test, axis=1))\n",
    "print(f\"Accuracy: {accuracy * 100}%\")"
   ]
  },
  {
   "cell_type": "markdown",
   "metadata": {},
   "source": [
    "# Teste de quantização dos pesos e ativações"
   ]
  },
  {
   "cell_type": "code",
   "execution_count": 1,
   "metadata": {},
   "outputs": [
    {
     "name": "stdout",
     "output_type": "stream",
     "text": [
      "(60000, 784) (10000, 784) (60000, 10) (10000, 10)\n",
      "Epoch 1/1, Loss: 0.00780609632650919 Accuracy: 49.93%\n",
      "Epoch 1/20, Loss: 0.008576101035937051 Accuracy: 39.12%\n",
      "Epoch 2/20, Loss: 0.009672565162969417 Accuracy: 85.72%\n",
      "Epoch 3/20, Loss: 0.003554396415008825 Accuracy: 84.36%\n",
      "Epoch 4/20, Loss: 0.0028814813667370183 Accuracy: 87.85%\n",
      "Epoch 5/20, Loss: 0.0028496389453098116 Accuracy: 90.42999999999999%\n",
      "Epoch 6/20, Loss: 0.002495295714098357 Accuracy: 91.77%\n",
      "Epoch 7/20, Loss: 0.0020729704017689106 Accuracy: 92.33%\n",
      "Epoch 8/20, Loss: 0.001999065732354383 Accuracy: 94.31%\n",
      "Epoch 9/20, Loss: 0.001893588039256784 Accuracy: 94.77%\n",
      "Epoch 10/20, Loss: 0.0017786311817934363 Accuracy: 92.89%\n",
      "Epoch 11/20, Loss: 0.0017429993833433584 Accuracy: 94.22%\n",
      "Epoch 12/20, Loss: 0.0016327889330730945 Accuracy: 92.58%\n",
      "Epoch 13/20, Loss: 0.0017092218471768475 Accuracy: 94.58%\n",
      "Epoch 14/20, Loss: 0.0017036356632310515 Accuracy: 93.66%\n",
      "Epoch 15/20, Loss: 0.0016630394758561568 Accuracy: 93.24%\n",
      "Epoch 16/20, Loss: 0.0017118476536894958 Accuracy: 94.65%\n",
      "Epoch 17/20, Loss: 0.0016465582390446688 Accuracy: 94.98%\n",
      "Epoch 18/20, Loss: 0.0016554363039437833 Accuracy: 94.38%\n",
      "Epoch 19/20, Loss: 0.0016646826090223206 Accuracy: 94.16%\n",
      "Epoch 20/20, Loss: 0.0015964066047507589 Accuracy: 93.67999999999999%\n",
      "Epoch 1/5, Loss: 0.0012263462343445543 Accuracy: 95.17%\n",
      "Epoch 2/5, Loss: 0.0011304564362147177 Accuracy: 94.99%\n",
      "Epoch 3/5, Loss: 0.0010550564879927217 Accuracy: 95.25%\n",
      "Epoch 4/5, Loss: 0.0010660899311310638 Accuracy: 94.85%\n",
      "Epoch 5/5, Loss: 0.0010503441622960925 Accuracy: 95.34%\n"
     ]
    }
   ],
   "source": [
    "import numpy as np\n",
    "import cupy as cp\n",
    "import tensorflow as tf\n",
    "from dataset import load_mnist\n",
    "from NeuralNetwork import QNeuralNetworkWithScale\n",
    "import Activations\n",
    "import FullyConnectedLayer\n",
    "\n",
    "\n",
    "# load dataset\n",
    "x_train, x_test, y_train, y_test = load_mnist()\n",
    "\n",
    "# Define neural network inputnoutput\n",
    "input_size = x_train.shape[1]\n",
    "output_size = y_train.shape[1]\n",
    "\n",
    "print(x_train.shape,\n",
    "x_test.shape,\n",
    "y_train.shape,\n",
    "y_test.shape)\n",
    "\n",
    "# Create and train the neural network\n",
    "neural_network_with_scale = QNeuralNetworkWithScale(input_size, output_size)\n",
    "\n",
    "# train the nn\n",
    "#neural_network_with_scale.train(x_train, y_train, learning_rate=0.000001, num_epochs=1, batch_size=256, x_val=x_test, y_val=y_test)\n",
    "neural_network_with_scale.train(x_train, y_train, learning_rate=0.000010, num_epochs=1, batch_size=256, x_val=x_test, y_val=y_test)\n",
    "neural_network_with_scale.train(x_train, y_train, learning_rate=0.000100, num_epochs=20, batch_size=256, x_val=x_test, y_val=y_test)\n",
    "neural_network_with_scale.train(x_train, y_train, learning_rate=0.000010, num_epochs=5, batch_size=256, x_val=x_test, y_val=y_test)\n",
    "# neural_network_with_scale.train(x_train, y_train, learning_rate=0.001000, num_epochs=7, batch_size=64, x_val=x_test, y_val=y_test)\n"
   ]
  },
  {
   "cell_type": "markdown",
   "metadata": {},
   "source": [
    "# plot scales history"
   ]
  },
  {
   "cell_type": "code",
   "execution_count": null,
   "metadata": {},
   "outputs": [],
   "source": [
    "import matplotlib.pyplot as plt\n",
    "\n",
    "\n",
    "\n",
    "for i, layer in enumerate(neural_network_with_scale.layers):\n",
    "    if isinstance(layer, FullyConnectedLayer.QFullyConnectedLayerWithScale):\n",
    "        plt.figure(dpi=300)\n",
    "        plt.plot(np.clip(cp.asnumpy(cp.array(layer.ws_hist)), 0, 10))\n",
    "        plt.plot(np.clip(cp.asnumpy(cp.array(layer.bs_hist)), 0, 200000))\n",
    "        plt.plot(np.clip(cp.asnumpy(cp.array(layer.os_hist)), 0, 200000))\n",
    "        plt.plot(np.clip(cp.asnumpy(cp.array(layer.gws_hist)), 0, 200000))\n",
    "        plt.plot(np.clip(cp.asnumpy(cp.array(layer.gbs_hist)), 0, 200000))\n",
    "        plt.plot(np.clip(cp.asnumpy(cp.array(layer.gos_hist)), 0, 200000))\n",
    "        \n",
    "        leg = [ \"ws_hist\",\n",
    "                 \"bs_hist\",\n",
    "                 \"os_hist\",\n",
    "                 \"gws_hist\",\n",
    "                 \"gbs_hist\",\n",
    "                 \"gos_hist\"\n",
    "         ]\n",
    "             \n",
    "             \n",
    "        plt.legend(leg)\n",
    "        plt.show()\n",
    "        \n",
    "        "
   ]
  },
  {
   "cell_type": "markdown",
   "metadata": {},
   "source": [
    "# plot grad histogram history"
   ]
  },
  {
   "cell_type": "code",
   "execution_count": null,
   "metadata": {},
   "outputs": [],
   "source": [
    "for l, layer in enumerate(neural_network_with_scale.layers):\n",
    "    if isinstance(layer, FullyConnectedLayer.QFullyConnectedLayerWithScale):\n",
    "        idx = []\n",
    "        for i, g in enumerate(layer.grad_output_hist):\n",
    "            if g.shape[0] != 256:\n",
    "                idx.append(i)\n",
    "        \n",
    "        for i, id in enumerate(idx):\n",
    "            layer.grad_output_hist.pop(id-i)\n",
    "            \n",
    "        np.save(f\"layer{l}_grad_hist\", np.array(layer.grad_output_hist, np.float32))"
   ]
  },
  {
   "cell_type": "code",
   "execution_count": null,
   "metadata": {},
   "outputs": [],
   "source": [
    "import matplotlib.pyplot as plt\n",
    "\n",
    "# plot grad history\n",
    "for l, layer in enumerate(neural_network_with_scale.layers):\n",
    "    if isinstance(layer, FullyConnectedLayer.QFullyConnectedLayerWithScale):\n",
    "        g = layer.grad_output_hist\n",
    "        shape = g[0].shape\n",
    "\n",
    "        # Criação dos dados\n",
    "        z = np.array(g, np.float32)\n",
    "        \n",
    "        # Criação da figura e do eixo 3D\n",
    "        fig = plt.figure()\n",
    "        ax = fig.add_subplot(111, projection='3d')\n",
    "\n",
    "        # Coordenadas dos pontos no espaço 3D\n",
    "        x, y, z = np.meshgrid(np.arange(z.shape[0]), np.arange(z.shape[1]), np.arange(z.shape[2]))\n",
    "\n",
    "        # Plotagem do array 3D\n",
    "        ax.scatter(x.ravel(), y.ravel(), z.ravel(), c=z.ravel())\n",
    "\n",
    "        # Configuração dos rótulos dos eixos\n",
    "        ax.set_xlabel('Eixo X')\n",
    "        ax.set_ylabel('Eixo Y')\n",
    "        ax.set_zlabel('Eixo Z')\n",
    "\n",
    "        # Exibição do gráfico\n",
    "        plt.show()      \n",
    "\n",
    "\n"
   ]
  },
  {
   "cell_type": "markdown",
   "metadata": {},
   "source": [
    "# plot wandb distributions"
   ]
  },
  {
   "cell_type": "code",
   "execution_count": null,
   "metadata": {},
   "outputs": [],
   "source": [
    "import matplotlib.pyplot as plt\n",
    "\n",
    "\n",
    "\n",
    "for i, layer in enumerate(neural_network_with_scale.layers):\n",
    "    if isinstance(layer, FullyConnectedLayer.QFullyConnectedLayerWithScale):\n",
    "\n",
    "        plt.hist(np.ravel(cp.asnumpy(layer.qw)), bins=16)\n",
    "        plt.hist(np.ravel(cp.asnumpy(layer.qb)), bins=16)\n",
    "        \n",
    "        plt.show()\n",
    "        \n",
    "        "
   ]
  },
  {
   "cell_type": "markdown",
   "metadata": {},
   "source": [
    "# plot output dist"
   ]
  },
  {
   "cell_type": "code",
   "execution_count": null,
   "metadata": {},
   "outputs": [],
   "source": [
    "import matplotlib.pyplot as plt\n",
    "\n",
    "\n",
    "\n",
    "for i, layer in enumerate(neural_network_with_scale.layers):\n",
    "    if isinstance(layer, FullyConnectedLayer.QFullyConnectedLayerWithScale):\n",
    "\n",
    "        plt.hist(np.ravel(cp.asnumpy(layer.output)), bins=16)\n",
    "                \n",
    "        plt.show()\n",
    "        "
   ]
  },
  {
   "cell_type": "markdown",
   "metadata": {},
   "source": [
    "# calculate accuracy"
   ]
  },
  {
   "cell_type": "code",
   "execution_count": null,
   "metadata": {},
   "outputs": [],
   "source": [
    "y_pred = neural_network_with_scale.predict(x_train, 256)\n",
    "\n",
    "# Calculate accuracy\n",
    "accuracy = cp.mean(y_pred == cp.argmax(y_train, axis=1))\n",
    "print(f\"Accuracy: {accuracy * 100}%\")"
   ]
  },
  {
   "cell_type": "code",
   "execution_count": null,
   "metadata": {},
   "outputs": [],
   "source": [
    "# validation\n",
    "z = neural_network_with_scale.forward(x_test)\n",
    "y_pred = cp.argmax(z, axis=-1)\n",
    "\n",
    "# Calculate accuracy\n",
    "accuracy = cp.mean(y_pred == cp.argmax(y_test, axis=1))\n",
    "print(f\"Accuracy: {accuracy * 100}%\")"
   ]
  },
  {
   "cell_type": "code",
   "execution_count": null,
   "metadata": {},
   "outputs": [],
   "source": [
    "import matplotlib.pyplot as plt\n",
    "from quantizer import quantize\n",
    "import copy \n",
    "## printing weight distribution\n",
    "\n",
    "\n",
    "for layer in neural_network_with_scale.layers:\n",
    "    if isinstance(layer, FullyConnectedLayer.QFullyConnectedLayerWithScale):\n",
    "        w = copy.deepcopy(layer.weights)\n",
    "        b = copy.deepcopy(layer.biases)\n",
    "        o = copy.deepcopy(layer.output)\n",
    "        \n",
    "        \n",
    "        # Initialise the subplot function using number of rows and columns\n",
    "        figure, axis = plt.subplots(1, 3, figsize=(20,7))\n",
    "        \n",
    "        # For Sine Function\n",
    "        axis[0].hist(cp.ravel(w), bins=160)\n",
    "        axis[0].set_title(\"Float Weights\")\n",
    "        \n",
    "        scale = cp.max(cp.abs(w))\n",
    "        print(scale)\n",
    "\n",
    "        w /= scale\n",
    "        w = quantize(w, True)\n",
    "\n",
    "        axis[1].hist(cp.ravel(w), bins=16)\n",
    "        axis[1].set_title(\"Quantized Weights\")\n",
    "        \n",
    "        axis[2].hist(cp.ravel(o), bins=16)\n",
    "        axis[2].set_title(\"quantized outputs\")\n",
    "\n",
    "        plt.show()"
   ]
  },
  {
   "cell_type": "code",
   "execution_count": null,
   "metadata": {},
   "outputs": [],
   "source": []
  }
 ],
 "metadata": {
  "kernelspec": {
   "display_name": "Python 3",
   "language": "python",
   "name": "python3"
  },
  "language_info": {
   "codemirror_mode": {
    "name": "ipython",
    "version": 3
   },
   "file_extension": ".py",
   "mimetype": "text/x-python",
   "name": "python",
   "nbconvert_exporter": "python",
   "pygments_lexer": "ipython3",
   "version": "3.10.9"
  },
  "orig_nbformat": 4
 },
 "nbformat": 4,
 "nbformat_minor": 2
}
