{
 "cells": [
  {
   "attachments": {},
   "cell_type": "markdown",
   "metadata": {},
   "source": [
    "# Experimento CNN FP32"
   ]
  },
  {
   "cell_type": "code",
   "execution_count": 1,
   "metadata": {},
   "outputs": [],
   "source": [
    "import numpy as np\n",
    "import tensorflow as tf\n",
    "from dataset import load_mnist\n",
    "import NeuralNetwork\n",
    "lenet = NeuralNetwork.LeNet\n",
    "\n",
    "x_train, y_train, x_test, y_test = load_mnist()"
   ]
  },
  {
   "cell_type": "code",
   "execution_count": 2,
   "metadata": {},
   "outputs": [
    {
     "name": "stdout",
     "output_type": "stream",
     "text": [
      "(60000, 28, 28, 1) (10000, 28, 28, 1) (60000, 10) (10000, 10)\n",
      "Epoch 1/10, Loss: 0.8038204312324524 Accuracy: 93.86000037193298%\n",
      "Epoch 2/10, Loss: 0.1567430943250656 Accuracy: 95.60999870300293%\n",
      "Epoch 3/10, Loss: 0.11775807291269302 Accuracy: 96.24000191688538%\n",
      "Epoch 4/10, Loss: 0.09687279909849167 Accuracy: 96.81000113487244%\n",
      "Epoch 5/10, Loss: 0.08332180976867676 Accuracy: 97.079998254776%\n",
      "Epoch 6/10, Loss: 0.07350301742553711 Accuracy: 97.29999899864197%\n",
      "Epoch 7/10, Loss: 0.06569920480251312 Accuracy: 97.51999974250793%\n",
      "Epoch 8/10, Loss: 0.059392403811216354 Accuracy: 97.65999913215637%\n",
      "Epoch 9/10, Loss: 0.05421583354473114 Accuracy: 97.82999753952026%\n",
      "Epoch 10/10, Loss: 0.04978102073073387 Accuracy: 97.96000123023987%\n"
     ]
    }
   ],
   "source": [
    "\n",
    "# Define neural network output\n",
    "output_size = y_train.shape[-1]\n",
    "\n",
    "print(x_train.shape, x_test.shape, y_train.shape, y_test.shape)\n",
    "\n",
    "batch_size = 256\n",
    "num_classes = output_size\n",
    "\n",
    "# Create and train the neural network\n",
    "neural_network = lenet([batch_size] + x_train.shape[1:], num_classes)\n",
    "\n",
    "\n",
    "neural_network.train(x_train, y_train, learning_rate=0.01/batch_size, num_epochs=10, x_val=x_test, y_val=y_test)\n",
    "# neural_network.train(x_train, y_train, learning_rate=0.005/batch_size, num_epochs=5, x_val=x_test, y_val=y_test)\n"
   ]
  },
  {
   "cell_type": "code",
   "execution_count": null,
   "metadata": {},
   "outputs": [],
   "source": [
    "\n",
    "\n",
    "# Exemplo de uso da camada personalizada\n",
    "model = tf.keras.Sequential([\n",
    "    tf.keras.layers.Conv2D(filters=16, kernel_size=(3, 3), strides=(1, 1), padding='SAME', kernel_initializer=\"he_uniform\"),\n",
    "    tf.keras.layers.ReLU(),\n",
    "    tf.keras.layers.MaxPooling2D(pool_size=(2, 2)),\n",
    "    tf.keras.layers.Conv2D(filters=32, kernel_size=(3, 3), strides=(1, 1), padding='SAME', kernel_initializer=\"he_uniform\"),\n",
    "    tf.keras.layers.ReLU(),\n",
    "    tf.keras.layers.MaxPooling2D(pool_size=(2, 2)),\n",
    "    tf.keras.layers.Flatten(),\n",
    "    tf.keras.layers.Dense(256, kernel_initializer=\"he_uniform\"),\n",
    "    tf.keras.layers.ReLU(),\n",
    "    tf.keras.layers.Dense(256, kernel_initializer=\"he_uniform\"),\n",
    "    tf.keras.layers.ReLU(),\n",
    "    tf.keras.layers.Dense(10, kernel_initializer=\"he_uniform\"),\n",
    "])\n",
    "\n",
    "\n",
    "batch_size = 256\n",
    "# Compilação e treinamento do modelo\n",
    "optimizer = tf.keras.optimizers.SGD(0.01)\n",
    "model.compile(loss=tf.keras.losses.CategoricalCrossentropy(from_logits=True), optimizer=optimizer, metrics=['accuracy'])\n",
    "model.build([batch_size] + x_train.shape[1:])\n",
    "\n",
    "\n",
    "model.fit(x_train, y_train, epochs=10, batch_size=batch_size, validation_data=(x_test, y_test))"
   ]
  },
  {
   "attachments": {},
   "cell_type": "markdown",
   "metadata": {},
   "source": [
    "# Teste de normalização de pesos e ativações durante treinamento"
   ]
  },
  {
   "cell_type": "code",
   "execution_count": null,
   "metadata": {},
   "outputs": [],
   "source": [
    "# this is just for working with notebooks and classes outside the scope\n",
    "import importlib\n",
    "import NeuralNetwork\n",
    "import Activations\n",
    "import FullyConnectedLayer\n",
    "importlib.reload(NeuralNetwork)\n",
    "importlib.reload(Activations)\n",
    "importlib.reload(FullyConnectedLayer)\n",
    "NeuralNetworkWithScale = NeuralNetwork.NeuralNetworkWithScale\n",
    "########################################################################\n",
    "\n",
    "NeuralNetworkWithScale = NeuralNetwork.NeuralNetworkWithScale\n",
    "\n",
    "# Create and train the neural network\n",
    "neural_network_with_scale = NeuralNetworkWithScale(input_size, output_size)"
   ]
  },
  {
   "attachments": {},
   "cell_type": "markdown",
   "metadata": {},
   "source": [
    "### Loop de treinamento aqui"
   ]
  },
  {
   "cell_type": "code",
   "execution_count": null,
   "metadata": {},
   "outputs": [],
   "source": [
    "neural_network_with_scale.train(x_train, y_train, learning_rate=0.001, num_epochs=10, batch_size=64)\n",
    "\n",
    "# Make predictions on the test set\n",
    "y_pred = neural_network_with_scale.predict(x_test)\n",
    "\n",
    "# Calculate accuracy\n",
    "accuracy = np.mean(y_pred == np.argmax(y_test, axis=1))\n",
    "print(f\"Accuracy: {accuracy * 100}%\")"
   ]
  },
  {
   "cell_type": "markdown",
   "metadata": {},
   "source": [
    "# Teste de normalização dos erros retropropagados"
   ]
  },
  {
   "cell_type": "code",
   "execution_count": null,
   "metadata": {},
   "outputs": [],
   "source": [
    "# this is just for working with notebooks and classes outside the scope\n",
    "import importlib\n",
    "import NeuralNetwork\n",
    "import Activations\n",
    "import FullyConnectedLayer\n",
    "importlib.reload(NeuralNetwork)\n",
    "importlib.reload(Activations)\n",
    "importlib.reload(FullyConnectedLayer)\n",
    "NeuralNetworkWithScale = NeuralNetwork.NeuralNetworkWithScale\n",
    "########################################################################\n",
    "\n",
    "NeuralNetworkWithScale = NeuralNetwork.NeuralNetworkWithScale\n",
    "\n",
    "# Create and train the neural network\n",
    "neural_network_with_scale = NeuralNetworkWithScale(input_size, output_size)"
   ]
  },
  {
   "cell_type": "code",
   "execution_count": null,
   "metadata": {},
   "outputs": [],
   "source": [
    "# descrever loop de treinamento aqui\n",
    "\n",
    "\n",
    "inputs = x_train\n",
    "targets = y_train\n",
    "learning_rate = 0.001\n",
    "num_epochs = 10\n",
    "batch_size = 64\n",
    "\n",
    "\n",
    "\n",
    "for epoch in range(num_epochs):\n",
    "    loss = 0.0\n",
    "    for batch_inputs, y_true in neural_network_with_scale.get_batches(inputs, targets, batch_size):\n",
    "        \n",
    "        # Forward pass\n",
    "        z = neural_network_with_scale.forward(batch_inputs)\n",
    "\n",
    "        # apply softmax\n",
    "        y_pred = neural_network_with_scale.softmax.forward(z)\n",
    "\n",
    "        # Compute loss\n",
    "        loss += neural_network_with_scale.cross_entropy_loss_with_logits(y_pred, y_true)\n",
    "        \n",
    "        # Compute the derivative of the loss\n",
    "        dz = neural_network_with_scale.cross_entropy_loss_with_logits_derivative(y_pred, y_true)\n",
    "        \n",
    "\n",
    "        #####################################\n",
    "        # backward pass\n",
    "        grad_output = dz\n",
    "        \n",
    "\n",
    "        # normalized gradients\n",
    "        grad_output_scale = np.max(np.abs(grad_output))               \n",
    "\n",
    "        # faz essa multiplicação para padronizar operações de retropropagação nas camadas\n",
    "        grad_output = grad_output * neural_network_with_scale.layers[-1].output_scale / grad_output_scale\n",
    "\n",
    "        for layer in reversed(neural_network_with_scale.layers):\n",
    "            if isinstance(layer, FullyConnectedLayer.FullyConnectedLayerWithScale):\n",
    "                grad_output = layer.backward_with_scale(grad_output, grad_output_scale, learning_rate)\n",
    "                grad_output_scale = layer.grad_output_scale                \n",
    "\n",
    "            else:\n",
    "                grad_output = layer.backward(grad_output, learning_rate)\n",
    "        #####################################\n",
    "\n",
    "    loss /= len(inputs)\n",
    "    print(f\"Epoch {epoch+1}/{num_epochs}, Loss: {loss}\")\n"
   ]
  },
  {
   "cell_type": "code",
   "execution_count": null,
   "metadata": {},
   "outputs": [],
   "source": [
    "# Make predictions on the test set\n",
    "y_pred = neural_network_with_scale.predict(x_test)\n",
    "\n",
    "# Calculate accuracy\n",
    "accuracy = np.mean(y_pred == np.argmax(y_test, axis=1))\n",
    "print(f\"Accuracy: {accuracy * 100}%\")"
   ]
  },
  {
   "cell_type": "markdown",
   "metadata": {},
   "source": [
    "# Teste de quantização dos pesos e ativações"
   ]
  },
  {
   "cell_type": "code",
   "execution_count": null,
   "metadata": {},
   "outputs": [],
   "source": [
    "import numpy as np\n",
    "import cupy as cp\n",
    "import tensorflow as tf\n",
    "from dataset import load_mnist\n",
    "from NeuralNetwork import QNeuralNetworkWithScale\n",
    "import Activations\n",
    "import FullyConnectedLayer\n",
    "\n",
    "\n",
    "# load dataset\n",
    "x_train, x_test, y_train, y_test = load_mnist()\n",
    "\n",
    "# Define neural network inputnoutput\n",
    "input_size = x_train.shape[1]\n",
    "output_size = y_train.shape[1]\n",
    "\n",
    "print(x_train.shape,\n",
    "x_test.shape,\n",
    "y_train.shape,\n",
    "y_test.shape)\n",
    "\n",
    "# Create and train the neural network\n",
    "neural_network_with_scale = QNeuralNetworkWithScale(input_size, output_size)\n",
    "\n",
    "# train the nn\n",
    "neural_network_with_scale.train(x_train, y_train, learning_rate=0.000010, num_epochs=1, batch_size=256, x_val=x_test, y_val=y_test)\n",
    "neural_network_with_scale.train(x_train, y_train, learning_rate=0.000100, num_epochs=20, batch_size=256, x_val=x_test, y_val=y_test)\n",
    "neural_network_with_scale.train(x_train, y_train, learning_rate=0.000010, num_epochs=5, batch_size=256, x_val=x_test, y_val=y_test)\n",
    "\n"
   ]
  },
  {
   "cell_type": "markdown",
   "metadata": {},
   "source": [
    "# plot scales history"
   ]
  },
  {
   "cell_type": "code",
   "execution_count": null,
   "metadata": {},
   "outputs": [],
   "source": [
    "import matplotlib.pyplot as plt\n",
    "\n",
    "\n",
    "\n",
    "for i, layer in enumerate(neural_network_with_scale.layers):\n",
    "    if isinstance(layer, FullyConnectedLayer.QFullyConnectedLayerWithScale):\n",
    "        plt.figure(dpi=300)\n",
    "        plt.plot(np.clip(cp.asnumpy(cp.array(layer.ws_hist)), 0, 2000000))\n",
    "        plt.plot(np.clip(cp.asnumpy(cp.array(layer.bs_hist)), 0, 2000000))\n",
    "        plt.plot(np.clip(cp.asnumpy(cp.array(layer.os_hist)), 0, 2000000))\n",
    "        plt.plot(np.clip(cp.asnumpy(cp.array(layer.gws_hist)), 0, 2000000))\n",
    "        plt.plot(np.clip(cp.asnumpy(cp.array(layer.gbs_hist)), 0, 2000000))\n",
    "        plt.plot(np.clip(cp.asnumpy(cp.array(layer.gos_hist)), 0, 2000000))\n",
    "        \n",
    "        leg = [ \n",
    "                \"ws_hist\",\n",
    "                \"bs_hist\",\n",
    "                \"os_hist\",\n",
    "                \"gws_hist\",\n",
    "                \"gbs_hist\",\n",
    "                \"gos_hist\"\n",
    "         ]\n",
    "             \n",
    "             \n",
    "        plt.legend(leg)\n",
    "        plt.show()\n",
    "        \n",
    "        "
   ]
  },
  {
   "cell_type": "markdown",
   "metadata": {},
   "source": [
    "# plot grad histogram history"
   ]
  },
  {
   "cell_type": "code",
   "execution_count": null,
   "metadata": {},
   "outputs": [],
   "source": [
    "for l, layer in enumerate(neural_network_with_scale.layers):\n",
    "    if isinstance(layer, FullyConnectedLayer.QFullyConnectedLayerWithScale):\n",
    "        idx = []\n",
    "        for i, g in enumerate(layer.grad_output_hist):\n",
    "            if g.shape[0] != 256:\n",
    "                idx.append(i)\n",
    "        \n",
    "        for i, id in enumerate(idx):\n",
    "            layer.grad_output_hist.pop(id-i)\n",
    "            \n",
    "        np.save(f\"layer{l}_grad_hist\", np.array(layer.grad_output_hist, np.float32))"
   ]
  },
  {
   "cell_type": "code",
   "execution_count": null,
   "metadata": {},
   "outputs": [],
   "source": [
    "import matplotlib.pyplot as plt\n",
    "\n",
    "# plot grad history\n",
    "for l, layer in enumerate(neural_network_with_scale.layers):\n",
    "    if isinstance(layer, FullyConnectedLayer.QFullyConnectedLayerWithScale):\n",
    "        g = layer.grad_output_hist\n",
    "        shape = g[0].shape\n",
    "\n",
    "        # Criação dos dados\n",
    "        z = np.array(g, np.float32)\n",
    "        \n",
    "        # Criação da figura e do eixo 3D\n",
    "        fig = plt.figure()\n",
    "        ax = fig.add_subplot(111, projection='3d')\n",
    "\n",
    "        # Coordenadas dos pontos no espaço 3D\n",
    "        x, y, z = np.meshgrid(np.arange(z.shape[0]), np.arange(z.shape[1]), np.arange(z.shape[2]))\n",
    "\n",
    "        # Plotagem do array 3D\n",
    "        ax.scatter(x.ravel(), y.ravel(), z.ravel(), c=z.ravel())\n",
    "\n",
    "        # Configuração dos rótulos dos eixos\n",
    "        ax.set_xlabel('Eixo X')\n",
    "        ax.set_ylabel('Eixo Y')\n",
    "        ax.set_zlabel('Eixo Z')\n",
    "\n",
    "        # Exibição do gráfico\n",
    "        plt.show()      \n",
    "\n",
    "\n"
   ]
  },
  {
   "cell_type": "markdown",
   "metadata": {},
   "source": [
    "# plot wandb distributions"
   ]
  },
  {
   "cell_type": "code",
   "execution_count": null,
   "metadata": {},
   "outputs": [],
   "source": [
    "import matplotlib.pyplot as plt\n",
    "\n",
    "\n",
    "\n",
    "for i, layer in enumerate(neural_network_with_scale.layers):\n",
    "    if isinstance(layer, FullyConnectedLayer.QFullyConnectedLayerWithScale):\n",
    "\n",
    "        plt.hist(np.ravel(cp.asnumpy(layer.qw)), bins=16)\n",
    "        plt.hist(np.ravel(cp.asnumpy(layer.qb)), bins=16)\n",
    "        \n",
    "        plt.show()\n",
    "        \n",
    "        "
   ]
  },
  {
   "cell_type": "markdown",
   "metadata": {},
   "source": [
    "# plot output dist"
   ]
  },
  {
   "cell_type": "code",
   "execution_count": null,
   "metadata": {},
   "outputs": [],
   "source": [
    "import matplotlib.pyplot as plt\n",
    "\n",
    "\n",
    "\n",
    "for i, layer in enumerate(neural_network_with_scale.layers):\n",
    "    if isinstance(layer, FullyConnectedLayer.QFullyConnectedLayerWithScale):\n",
    "\n",
    "        plt.hist(np.ravel(cp.asnumpy(layer.output)), bins=16)\n",
    "                \n",
    "        plt.show()\n",
    "        "
   ]
  },
  {
   "cell_type": "markdown",
   "metadata": {},
   "source": [
    "# calculate accuracy"
   ]
  },
  {
   "cell_type": "code",
   "execution_count": null,
   "metadata": {},
   "outputs": [],
   "source": [
    "y_pred = neural_network_with_scale.predict(x_train, 256)\n",
    "\n",
    "# Calculate accuracy\n",
    "accuracy = cp.mean(y_pred == cp.argmax(y_train, axis=1))\n",
    "print(f\"Accuracy: {accuracy * 100}%\")"
   ]
  },
  {
   "cell_type": "code",
   "execution_count": null,
   "metadata": {},
   "outputs": [],
   "source": [
    "# validation\n",
    "z = neural_network_with_scale.forward(x_test)\n",
    "y_pred = cp.argmax(z, axis=-1)\n",
    "\n",
    "# Calculate accuracy\n",
    "accuracy = cp.mean(y_pred == cp.argmax(y_test, axis=1))\n",
    "print(f\"Accuracy: {accuracy * 100}%\")"
   ]
  },
  {
   "cell_type": "code",
   "execution_count": null,
   "metadata": {},
   "outputs": [],
   "source": [
    "import matplotlib.pyplot as plt\n",
    "from quantizer import quantize\n",
    "import copy \n",
    "## printing weight distribution\n",
    "\n",
    "\n",
    "for layer in neural_network_with_scale.layers:\n",
    "    if isinstance(layer, FullyConnectedLayer.QFullyConnectedLayerWithScale):\n",
    "        w = copy.deepcopy(layer.weights)\n",
    "        b = copy.deepcopy(layer.biases)\n",
    "        o = copy.deepcopy(layer.output)\n",
    "        \n",
    "        \n",
    "        # Initialise the subplot function using number of rows and columns\n",
    "        figure, axis = plt.subplots(1, 3, figsize=(20,7))\n",
    "        \n",
    "        # For Sine Function\n",
    "        axis[0].hist(cp.ravel(w), bins=160)\n",
    "        axis[0].set_title(\"Float Weights\")\n",
    "        \n",
    "        scale = cp.max(cp.abs(w))\n",
    "        print(scale)\n",
    "\n",
    "        w /= scale\n",
    "        w = quantize(w, True)\n",
    "\n",
    "        axis[1].hist(cp.ravel(w), bins=16)\n",
    "        axis[1].set_title(\"Quantized Weights\")\n",
    "        \n",
    "        axis[2].hist(cp.ravel(o), bins=16)\n",
    "        axis[2].set_title(\"quantized outputs\")\n",
    "\n",
    "        plt.show()"
   ]
  },
  {
   "cell_type": "code",
   "execution_count": null,
   "metadata": {},
   "outputs": [],
   "source": []
  }
 ],
 "metadata": {
  "kernelspec": {
   "display_name": "Python 3",
   "language": "python",
   "name": "python3"
  },
  "language_info": {
   "codemirror_mode": {
    "name": "ipython",
    "version": 3
   },
   "file_extension": ".py",
   "mimetype": "text/x-python",
   "name": "python",
   "nbconvert_exporter": "python",
   "pygments_lexer": "ipython3",
   "version": "3.10.9"
  },
  "orig_nbformat": 4
 },
 "nbformat": 4,
 "nbformat_minor": 2
}
