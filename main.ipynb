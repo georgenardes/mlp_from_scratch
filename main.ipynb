{
 "cells": [
  {
   "cell_type": "code",
   "execution_count": 1,
   "metadata": {},
   "outputs": [],
   "source": [
    "import numpy as np\n",
    "import cupy as cp\n",
    "import tensorflow as tf\n",
    "from dataset import load_mnist"
   ]
  },
  {
   "attachments": {},
   "cell_type": "markdown",
   "metadata": {},
   "source": [
    "# Load Dataset"
   ]
  },
  {
   "cell_type": "code",
   "execution_count": 2,
   "metadata": {},
   "outputs": [
    {
     "name": "stdout",
     "output_type": "stream",
     "text": [
      "(60000, 784) (10000, 784) (60000, 10) (10000, 10)\n"
     ]
    }
   ],
   "source": [
    "x_train, x_test, y_train, y_test = load_mnist()\n",
    "\n",
    "\n",
    "# Define neural network inputnoutput\n",
    "input_size = x_train.shape[1]\n",
    "output_size = y_train.shape[1]\n",
    "\n",
    "print(x_train.shape,\n",
    "x_test.shape,\n",
    "y_train.shape,\n",
    "y_test.shape)"
   ]
  },
  {
   "attachments": {},
   "cell_type": "markdown",
   "metadata": {},
   "source": [
    "# Experimento FP32"
   ]
  },
  {
   "cell_type": "code",
   "execution_count": null,
   "metadata": {},
   "outputs": [],
   "source": [
    "# this is just for working with notebooks and classes outside the scope\n",
    "# import importlib\n",
    "# import NeuralNetwork\n",
    "# import Activations\n",
    "# importlib.reload(NeuralNetwork)\n",
    "# importlib.reload(Activations)\n",
    "# NeuralNetwork = NeuralNetwork.NeuralNetwork\n",
    "########################################################################\n",
    "\n",
    "import NeuralNetwork\n",
    "NeuralNetwork = NeuralNetwork.NeuralNetwork\n",
    "\n",
    "\n",
    "# Create and train the neural network\n",
    "neural_network = NeuralNetwork(input_size, output_size)"
   ]
  },
  {
   "cell_type": "code",
   "execution_count": null,
   "metadata": {},
   "outputs": [],
   "source": [
    "neural_network.train(x_train, y_train, learning_rate=0.001, num_epochs=3, batch_size=64)\n",
    "\n",
    "# Make predictions on the test set\n",
    "y_pred = neural_network.predict(x_test)\n",
    "\n",
    "# Calculate accuracy\n",
    "accuracy = np.mean(y_pred == np.argmax(y_test, axis=1))\n",
    "print(f\"Accuracy: {accuracy * 100}%\")"
   ]
  },
  {
   "attachments": {},
   "cell_type": "markdown",
   "metadata": {},
   "source": [
    "# Teste de normalização de pesos e ativações durante treinamento"
   ]
  },
  {
   "cell_type": "code",
   "execution_count": null,
   "metadata": {},
   "outputs": [],
   "source": [
    "# this is just for working with notebooks and classes outside the scope\n",
    "import importlib\n",
    "import NeuralNetwork\n",
    "import Activations\n",
    "import FullyConnectedLayer\n",
    "importlib.reload(NeuralNetwork)\n",
    "importlib.reload(Activations)\n",
    "importlib.reload(FullyConnectedLayer)\n",
    "NeuralNetworkWithScale = NeuralNetwork.NeuralNetworkWithScale\n",
    "########################################################################\n",
    "\n",
    "NeuralNetworkWithScale = NeuralNetwork.NeuralNetworkWithScale\n",
    "\n",
    "# Create and train the neural network\n",
    "neural_network_with_scale = NeuralNetworkWithScale(input_size, output_size)"
   ]
  },
  {
   "attachments": {},
   "cell_type": "markdown",
   "metadata": {},
   "source": [
    "### Loop de treinamento aqui"
   ]
  },
  {
   "cell_type": "code",
   "execution_count": null,
   "metadata": {},
   "outputs": [],
   "source": [
    "neural_network_with_scale.train(x_train, y_train, learning_rate=0.001, num_epochs=10, batch_size=64)\n",
    "\n",
    "# Make predictions on the test set\n",
    "y_pred = neural_network_with_scale.predict(x_test)\n",
    "\n",
    "# Calculate accuracy\n",
    "accuracy = np.mean(y_pred == np.argmax(y_test, axis=1))\n",
    "print(f\"Accuracy: {accuracy * 100}%\")"
   ]
  },
  {
   "cell_type": "markdown",
   "metadata": {},
   "source": [
    "# Teste de normalização dos erros retropropagados"
   ]
  },
  {
   "cell_type": "code",
   "execution_count": null,
   "metadata": {},
   "outputs": [],
   "source": [
    "# this is just for working with notebooks and classes outside the scope\n",
    "import importlib\n",
    "import NeuralNetwork\n",
    "import Activations\n",
    "import FullyConnectedLayer\n",
    "importlib.reload(NeuralNetwork)\n",
    "importlib.reload(Activations)\n",
    "importlib.reload(FullyConnectedLayer)\n",
    "NeuralNetworkWithScale = NeuralNetwork.NeuralNetworkWithScale\n",
    "########################################################################\n",
    "\n",
    "NeuralNetworkWithScale = NeuralNetwork.NeuralNetworkWithScale\n",
    "\n",
    "# Create and train the neural network\n",
    "neural_network_with_scale = NeuralNetworkWithScale(input_size, output_size)"
   ]
  },
  {
   "cell_type": "code",
   "execution_count": null,
   "metadata": {},
   "outputs": [],
   "source": [
    "# descrever loop de treinamento aqui\n",
    "\n",
    "\n",
    "inputs = x_train\n",
    "targets = y_train\n",
    "learning_rate = 0.001\n",
    "num_epochs = 10\n",
    "batch_size = 64\n",
    "\n",
    "\n",
    "\n",
    "for epoch in range(num_epochs):\n",
    "    loss = 0.0\n",
    "    for batch_inputs, y_true in neural_network_with_scale.get_batches(inputs, targets, batch_size):\n",
    "        \n",
    "        # Forward pass\n",
    "        z = neural_network_with_scale.forward(batch_inputs)\n",
    "\n",
    "        # apply softmax\n",
    "        y_pred = neural_network_with_scale.softmax.forward(z)\n",
    "\n",
    "        # Compute loss\n",
    "        loss += neural_network_with_scale.cross_entropy_loss_with_logits(y_pred, y_true)\n",
    "        \n",
    "        # Compute the derivative of the loss\n",
    "        dz = neural_network_with_scale.cross_entropy_loss_with_logits_derivative(y_pred, y_true)\n",
    "        \n",
    "\n",
    "        #####################################\n",
    "        # backward pass\n",
    "        grad_output = dz\n",
    "        \n",
    "\n",
    "        # normalized gradients\n",
    "        grad_output_scale = np.max(np.abs(grad_output))               \n",
    "\n",
    "        # faz essa multiplicação para padronizar operações de retropropagação nas camadas\n",
    "        grad_output = grad_output * neural_network_with_scale.layers[-1].output_scale / grad_output_scale\n",
    "\n",
    "        for layer in reversed(neural_network_with_scale.layers):\n",
    "            if isinstance(layer, FullyConnectedLayer.FullyConnectedLayerWithScale):\n",
    "                grad_output = layer.backward_with_scale(grad_output, grad_output_scale, learning_rate)\n",
    "                grad_output_scale = layer.grad_output_scale                \n",
    "\n",
    "            else:\n",
    "                grad_output = layer.backward(grad_output, learning_rate)\n",
    "        #####################################\n",
    "\n",
    "    loss /= len(inputs)\n",
    "    print(f\"Epoch {epoch+1}/{num_epochs}, Loss: {loss}\")\n"
   ]
  },
  {
   "cell_type": "code",
   "execution_count": null,
   "metadata": {},
   "outputs": [],
   "source": [
    "# Make predictions on the test set\n",
    "y_pred = neural_network_with_scale.predict(x_test)\n",
    "\n",
    "# Calculate accuracy\n",
    "accuracy = np.mean(y_pred == np.argmax(y_test, axis=1))\n",
    "print(f\"Accuracy: {accuracy * 100}%\")"
   ]
  },
  {
   "cell_type": "markdown",
   "metadata": {},
   "source": [
    "# Teste de quantização dos pesos e ativações"
   ]
  },
  {
   "cell_type": "code",
   "execution_count": 3,
   "metadata": {},
   "outputs": [
    {
     "name": "stdout",
     "output_type": "stream",
     "text": [
      "(60000, 784) (10000, 784) (60000, 10) (10000, 10)\n",
      "Epoch 1/8, Loss: 0.030360626304743923 Accuracy: 51.38%\n",
      "Epoch 2/8, Loss: 0.020287706806020957 Accuracy: 59.699999999999996%\n",
      "Epoch 3/8, Loss: 0.016698800750483665 Accuracy: 66.14999999999999%\n",
      "Epoch 4/8, Loss: 0.01573396801462024 Accuracy: 67.58%\n",
      "Epoch 5/8, Loss: 0.016704844592133786 Accuracy: 67.71000000000001%\n",
      "Epoch 6/8, Loss: 0.02187881560274116 Accuracy: 66.03%\n",
      "Epoch 7/8, Loss: 0.02430683738509168 Accuracy: 67.49000000000001%\n",
      "Epoch 8/8, Loss: 0.029171756927898845 Accuracy: 69.45%\n"
     ]
    }
   ],
   "source": [
    "import numpy as np\n",
    "import cupy as cp\n",
    "import tensorflow as tf\n",
    "from dataset import load_mnist\n",
    "from NeuralNetwork import QNeuralNetworkWithScale\n",
    "import Activations\n",
    "import FullyConnectedLayer\n",
    "\n",
    "\n",
    "# load dataset\n",
    "x_train, x_test, y_train, y_test = load_mnist()\n",
    "\n",
    "# Define neural network inputnoutput\n",
    "input_size = x_train.shape[1]\n",
    "output_size = y_train.shape[1]\n",
    "\n",
    "print(x_train.shape,\n",
    "x_test.shape,\n",
    "y_train.shape,\n",
    "y_test.shape)\n",
    "\n",
    "# Create and train the neural network\n",
    "neural_network_with_scale = QNeuralNetworkWithScale(input_size, output_size)\n",
    "\n",
    "# train the nn\n",
    "neural_network_with_scale.train(x_train, y_train, learning_rate=0.00001, num_epochs=8, batch_size=64, x_val=x_test, y_val=y_test)"
   ]
  },
  {
   "cell_type": "code",
   "execution_count": 4,
   "metadata": {},
   "outputs": [],
   "source": [
    "import copy\n",
    "\n",
    "dnn_bkp = copy.deepcopy(neural_network_with_scale)"
   ]
  },
  {
   "cell_type": "code",
   "execution_count": 3,
   "metadata": {},
   "outputs": [
    {
     "name": "stdout",
     "output_type": "stream",
     "text": [
      "Epoch 1/8, Loss: 0.035227506460145754 Accuracy: 70.42%\n",
      "Epoch 2/8, Loss: 0.03920299752785689 Accuracy: 69.89%\n",
      "Epoch 3/8, Loss: 0.04068256169531378 Accuracy: 68.17%\n",
      "Epoch 4/8, Loss: 0.04122248850997132 Accuracy: 64.57000000000001%\n",
      "Epoch 5/8, Loss: 0.03950336294131945 Accuracy: 67.83%\n",
      "Epoch 6/8, Loss: 0.03585127539028793 Accuracy: 72.16%\n",
      "Epoch 7/8, Loss: 0.03387988657405318 Accuracy: 70.82000000000001%\n",
      "Epoch 8/8, Loss: 0.03460561656551793 Accuracy: 77.83%\n"
     ]
    }
   ],
   "source": [
    "neural_network_with_scale = copy.deepcopy(dnn_bkp)\n",
    "neural_network_with_scale.train(x_train, y_train, learning_rate=0.00001, num_epochs=8, batch_size=64, x_val=x_test, y_val=y_test)"
   ]
  },
  {
   "cell_type": "code",
   "execution_count": null,
   "metadata": {},
   "outputs": [],
   "source": [
    "import copy\n",
    "\n",
    "dnn_bkp_v2 = copy.deepcopy(neural_network_with_scale)"
   ]
  },
  {
   "cell_type": "code",
   "execution_count": 5,
   "metadata": {},
   "outputs": [
    {
     "ename": "NameError",
     "evalue": "name 'dnn_bkp_v2' is not defined",
     "output_type": "error",
     "traceback": [
      "\u001b[1;31m---------------------------------------------------------------------------\u001b[0m",
      "\u001b[1;31mNameError\u001b[0m                                 Traceback (most recent call last)",
      "Cell \u001b[1;32mIn[5], line 1\u001b[0m\n\u001b[1;32m----> 1\u001b[0m neural_network_with_scale \u001b[39m=\u001b[39m copy\u001b[39m.\u001b[39mdeepcopy(dnn_bkp_v2)\n\u001b[0;32m      2\u001b[0m neural_network_with_scale\u001b[39m.\u001b[39mtrain(x_train, y_train, learning_rate\u001b[39m=\u001b[39m\u001b[39m0.00001\u001b[39m, num_epochs\u001b[39m=\u001b[39m\u001b[39m8\u001b[39m, batch_size\u001b[39m=\u001b[39m\u001b[39m64\u001b[39m, x_val\u001b[39m=\u001b[39mx_test, y_val\u001b[39m=\u001b[39my_test)\n",
      "\u001b[1;31mNameError\u001b[0m: name 'dnn_bkp_v2' is not defined"
     ]
    }
   ],
   "source": [
    "neural_network_with_scale = copy.deepcopy(dnn_bkp_v2)\n",
    "neural_network_with_scale.train(x_train, y_train, learning_rate=0.00001, num_epochs=8, batch_size=64, x_val=x_test, y_val=y_test)"
   ]
  },
  {
   "cell_type": "code",
   "execution_count": null,
   "metadata": {},
   "outputs": [],
   "source": [
    "# validation\n",
    "z = neural_network_with_scale.forward(x_test)\n",
    "y_pred = cp.argmax(z, axis=-1)\n",
    "\n",
    "# Calculate accuracy\n",
    "accuracy = cp.mean(y_pred == cp.argmax(y_test, axis=1))\n",
    "print(f\"Accuracy: {accuracy * 100}%\")"
   ]
  },
  {
   "cell_type": "code",
   "execution_count": null,
   "metadata": {},
   "outputs": [],
   "source": [
    "import matplotlib.pyplot as plt\n",
    "from quantizer import quantize\n",
    "import copy \n",
    "## printing weight distribution\n",
    "\n",
    "\n",
    "for layer in neural_network_with_scale.layers:\n",
    "    if isinstance(layer, FullyConnectedLayer.QFullyConnectedLayerWithScale):\n",
    "        w = copy.deepcopy(layer.weights)\n",
    "        b = copy.deepcopy(layer.biases)\n",
    "        o = copy.deepcopy(layer.output)\n",
    "        \n",
    "        \n",
    "        # Initialise the subplot function using number of rows and columns\n",
    "        figure, axis = plt.subplots(1, 3, figsize=(20,7))\n",
    "        \n",
    "        # For Sine Function\n",
    "        axis[0].hist(cp.ravel(w), bins=160)\n",
    "        axis[0].set_title(\"Float Weights\")\n",
    "        \n",
    "        scale = cp.max(cp.abs(w))\n",
    "        print(scale)\n",
    "\n",
    "        w /= scale\n",
    "        w = quantize(w, True)\n",
    "\n",
    "        axis[1].hist(cp.ravel(w), bins=16)\n",
    "        axis[1].set_title(\"Quantized Weights\")\n",
    "        \n",
    "        axis[2].hist(cp.ravel(o), bins=16)\n",
    "        axis[2].set_title(\"quantized outputs\")\n",
    "\n",
    "        plt.show()"
   ]
  },
  {
   "cell_type": "code",
   "execution_count": null,
   "metadata": {},
   "outputs": [],
   "source": []
  }
 ],
 "metadata": {
  "kernelspec": {
   "display_name": "Python 3",
   "language": "python",
   "name": "python3"
  },
  "language_info": {
   "codemirror_mode": {
    "name": "ipython",
    "version": 3
   },
   "file_extension": ".py",
   "mimetype": "text/x-python",
   "name": "python",
   "nbconvert_exporter": "python",
   "pygments_lexer": "ipython3",
   "version": "3.10.9"
  },
  "orig_nbformat": 4
 },
 "nbformat": 4,
 "nbformat_minor": 2
}
