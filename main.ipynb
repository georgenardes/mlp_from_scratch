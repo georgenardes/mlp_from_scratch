{
 "cells": [
  {
   "cell_type": "code",
   "execution_count": 1,
   "metadata": {},
   "outputs": [],
   "source": [
    "import numpy as np\n",
    "import cupy as cp\n",
    "import tensorflow as tf\n",
    "from dataset import load_mnist"
   ]
  },
  {
   "attachments": {},
   "cell_type": "markdown",
   "metadata": {},
   "source": [
    "# Load Dataset"
   ]
  },
  {
   "cell_type": "code",
   "execution_count": 2,
   "metadata": {},
   "outputs": [
    {
     "name": "stdout",
     "output_type": "stream",
     "text": [
      "(60000, 784) (10000, 784) (60000, 10) (10000, 10)\n"
     ]
    }
   ],
   "source": [
    "x_train, x_test, y_train, y_test = load_mnist()\n",
    "\n",
    "\n",
    "# Define neural network inputnoutput\n",
    "input_size = x_train.shape[1]\n",
    "output_size = y_train.shape[1]\n",
    "\n",
    "print(x_train.shape,\n",
    "x_test.shape,\n",
    "y_train.shape,\n",
    "y_test.shape)"
   ]
  },
  {
   "attachments": {},
   "cell_type": "markdown",
   "metadata": {},
   "source": [
    "# Experimento FP32"
   ]
  },
  {
   "cell_type": "code",
   "execution_count": null,
   "metadata": {},
   "outputs": [],
   "source": [
    "# this is just for working with notebooks and classes outside the scope\n",
    "# import importlib\n",
    "# import NeuralNetwork\n",
    "# import Activations\n",
    "# importlib.reload(NeuralNetwork)\n",
    "# importlib.reload(Activations)\n",
    "# NeuralNetwork = NeuralNetwork.NeuralNetwork\n",
    "########################################################################\n",
    "\n",
    "import NeuralNetwork\n",
    "NeuralNetwork = NeuralNetwork.NeuralNetwork\n",
    "\n",
    "\n",
    "# Create and train the neural network\n",
    "neural_network = NeuralNetwork(input_size, output_size)"
   ]
  },
  {
   "cell_type": "code",
   "execution_count": null,
   "metadata": {},
   "outputs": [],
   "source": [
    "neural_network.train(x_train, y_train, learning_rate=0.001, num_epochs=10, batch_size=64)\n",
    "\n",
    "# Make predictions on the test set\n",
    "y_pred = neural_network.predict(x_test)\n",
    "\n",
    "# Calculate accuracy\n",
    "accuracy = np.mean(y_pred == np.argmax(y_test, axis=1))\n",
    "print(f\"Accuracy: {accuracy * 100}%\")"
   ]
  },
  {
   "attachments": {},
   "cell_type": "markdown",
   "metadata": {},
   "source": [
    "# Teste de normalização de pesos e ativações durante treinamento"
   ]
  },
  {
   "cell_type": "code",
   "execution_count": null,
   "metadata": {},
   "outputs": [],
   "source": [
    "# this is just for working with notebooks and classes outside the scope\n",
    "import importlib\n",
    "import NeuralNetwork\n",
    "import Activations\n",
    "import FullyConnectedLayer\n",
    "importlib.reload(NeuralNetwork)\n",
    "importlib.reload(Activations)\n",
    "importlib.reload(FullyConnectedLayer)\n",
    "NeuralNetworkWithScale = NeuralNetwork.NeuralNetworkWithScale\n",
    "########################################################################\n",
    "\n",
    "NeuralNetworkWithScale = NeuralNetwork.NeuralNetworkWithScale\n",
    "\n",
    "# Create and train the neural network\n",
    "neural_network_with_scale = NeuralNetworkWithScale(input_size, output_size)"
   ]
  },
  {
   "attachments": {},
   "cell_type": "markdown",
   "metadata": {},
   "source": [
    "### Loop de treinamento aqui"
   ]
  },
  {
   "cell_type": "code",
   "execution_count": null,
   "metadata": {},
   "outputs": [],
   "source": [
    "neural_network_with_scale.train(x_train, y_train, learning_rate=0.001, num_epochs=10, batch_size=64)\n",
    "\n",
    "# Make predictions on the test set\n",
    "y_pred = neural_network_with_scale.predict(x_test)\n",
    "\n",
    "# Calculate accuracy\n",
    "accuracy = np.mean(y_pred == np.argmax(y_test, axis=1))\n",
    "print(f\"Accuracy: {accuracy * 100}%\")"
   ]
  },
  {
   "cell_type": "markdown",
   "metadata": {},
   "source": [
    "# Teste de normalização dos erros retropropagados"
   ]
  },
  {
   "cell_type": "code",
   "execution_count": null,
   "metadata": {},
   "outputs": [],
   "source": [
    "# this is just for working with notebooks and classes outside the scope\n",
    "import importlib\n",
    "import NeuralNetwork\n",
    "import Activations\n",
    "import FullyConnectedLayer\n",
    "importlib.reload(NeuralNetwork)\n",
    "importlib.reload(Activations)\n",
    "importlib.reload(FullyConnectedLayer)\n",
    "NeuralNetworkWithScale = NeuralNetwork.NeuralNetworkWithScale\n",
    "########################################################################\n",
    "\n",
    "NeuralNetworkWithScale = NeuralNetwork.NeuralNetworkWithScale\n",
    "\n",
    "# Create and train the neural network\n",
    "neural_network_with_scale = NeuralNetworkWithScale(input_size, output_size)"
   ]
  },
  {
   "cell_type": "code",
   "execution_count": null,
   "metadata": {},
   "outputs": [],
   "source": [
    "# descrever loop de treinamento aqui\n",
    "\n",
    "\n",
    "inputs = x_train\n",
    "targets = y_train\n",
    "learning_rate = 0.001\n",
    "num_epochs = 10\n",
    "batch_size = 64\n",
    "\n",
    "\n",
    "\n",
    "for epoch in range(num_epochs):\n",
    "    loss = 0.0\n",
    "    for batch_inputs, y_true in neural_network_with_scale.get_batches(inputs, targets, batch_size):\n",
    "        \n",
    "        # Forward pass\n",
    "        z = neural_network_with_scale.forward(batch_inputs)\n",
    "\n",
    "        # apply softmax\n",
    "        y_pred = neural_network_with_scale.softmax.forward(z)\n",
    "\n",
    "        # Compute loss\n",
    "        loss += neural_network_with_scale.cross_entropy_loss_with_logits(y_pred, y_true)\n",
    "        \n",
    "        # Compute the derivative of the loss\n",
    "        dz = neural_network_with_scale.cross_entropy_loss_with_logits_derivative(y_pred, y_true)\n",
    "        \n",
    "\n",
    "        #####################################\n",
    "        # backward pass\n",
    "        grad_output = dz\n",
    "        \n",
    "\n",
    "        # normalized gradients\n",
    "        grad_output_scale = np.max(np.abs(grad_output))               \n",
    "\n",
    "        # faz essa multiplicação para padronizar operações de retropropagação nas camadas\n",
    "        grad_output = grad_output * neural_network_with_scale.layers[-1].output_scale / grad_output_scale\n",
    "\n",
    "        for layer in reversed(neural_network_with_scale.layers):\n",
    "            if isinstance(layer, FullyConnectedLayer.FullyConnectedLayerWithScale):\n",
    "                grad_output = layer.backward_with_scale(grad_output, grad_output_scale, learning_rate)\n",
    "                grad_output_scale = layer.grad_output_scale                \n",
    "\n",
    "            else:\n",
    "                grad_output = layer.backward(grad_output, learning_rate)\n",
    "        #####################################\n",
    "\n",
    "    loss /= len(inputs)\n",
    "    print(f\"Epoch {epoch+1}/{num_epochs}, Loss: {loss}\")\n"
   ]
  },
  {
   "cell_type": "code",
   "execution_count": null,
   "metadata": {},
   "outputs": [],
   "source": [
    "# Make predictions on the test set\n",
    "y_pred = neural_network_with_scale.predict(x_test)\n",
    "\n",
    "# Calculate accuracy\n",
    "accuracy = np.mean(y_pred == np.argmax(y_test, axis=1))\n",
    "print(f\"Accuracy: {accuracy * 100}%\")"
   ]
  },
  {
   "cell_type": "markdown",
   "metadata": {},
   "source": [
    "# Teste de quantização dos pesos e ativações"
   ]
  },
  {
   "cell_type": "code",
   "execution_count": 3,
   "metadata": {},
   "outputs": [
    {
     "name": "stdout",
     "output_type": "stream",
     "text": [
      "(60000, 784) (10000, 784) (60000, 10) (10000, 10)\n",
      "Epoch 1/10, Loss: 0.007691539708606305\n",
      "Epoch 2/10, Loss: 0.004982162734274754\n",
      "Epoch 3/10, Loss: 0.004905132723999755\n",
      "Epoch 4/10, Loss: 0.004324360762860293\n",
      "Epoch 5/10, Loss: 0.003976929762428577\n",
      "Epoch 6/10, Loss: 0.003902033930181246\n",
      "Epoch 7/10, Loss: 0.0036880088640672787\n",
      "Epoch 8/10, Loss: 0.004068696964199462\n",
      "Epoch 9/10, Loss: 0.0045089272627880745\n",
      "Epoch 10/10, Loss: 0.00463674926095271\n"
     ]
    }
   ],
   "source": [
    "import numpy as np\n",
    "import cupy as cp\n",
    "import tensorflow as tf\n",
    "from dataset import load_mnist\n",
    "from NeuralNetwork import QNeuralNetworkWithScale\n",
    "import Activations\n",
    "import FullyConnectedLayer\n",
    "\n",
    "\n",
    "# load dataset\n",
    "x_train, x_test, y_train, y_test = load_mnist()\n",
    "\n",
    "# Define neural network inputnoutput\n",
    "input_size = x_train.shape[1]\n",
    "output_size = y_train.shape[1]\n",
    "\n",
    "print(x_train.shape,\n",
    "x_test.shape,\n",
    "y_train.shape,\n",
    "y_test.shape)\n",
    "\n",
    "# Create and train the neural network\n",
    "neural_network_with_scale = QNeuralNetworkWithScale(input_size, output_size)\n",
    "\n",
    "# train the nn\n",
    "neural_network_with_scale.train(x_train, y_train, learning_rate=0.001, num_epochs=10, batch_size=64)\n",
    "\n",
    "# last best: Epoch 10/10, Loss: 0.0024163900381383202\n"
   ]
  },
  {
   "attachments": {},
   "cell_type": "markdown",
   "metadata": {},
   "source": [
    "# "
   ]
  },
  {
   "cell_type": "code",
   "execution_count": 4,
   "metadata": {},
   "outputs": [
    {
     "name": "stdout",
     "output_type": "stream",
     "text": [
      "Accuracy: 95.5%\n"
     ]
    }
   ],
   "source": [
    "\n",
    "z = neural_network_with_scale.forward(x_test)\n",
    "y_pred = cp.argmax(z, axis=-1)\n",
    "\n",
    "# Calculate accuracy\n",
    "accuracy = cp.mean(y_pred == cp.argmax(y_test, axis=1))\n",
    "print(f\"Accuracy: {accuracy * 100}%\")"
   ]
  },
  {
   "cell_type": "code",
   "execution_count": null,
   "metadata": {},
   "outputs": [],
   "source": [
    "import matplotlib.pyplot as plt\n",
    "from quantizer import quantize\n",
    "import copy \n",
    "## printing weight distribution\n",
    "\n",
    "\n",
    "for layer in neural_network_with_scale.layers:\n",
    "    if isinstance(layer, FullyConnectedLayer.QFullyConnectedLayerWithScale):\n",
    "        w = copy.deepcopy(layer.weights)\n",
    "        b = copy.deepcopy(layer.biases)\n",
    "        o = copy.deepcopy(layer.output)\n",
    "        \n",
    "        \n",
    "        # Initialise the subplot function using number of rows and columns\n",
    "        figure, axis = plt.subplots(1, 3, figsize=(20,7))\n",
    "        \n",
    "        # For Sine Function\n",
    "        axis[0].hist(cp.ravel(w), bins=160)\n",
    "        axis[0].set_title(\"Float Weights\")\n",
    "        \n",
    "        scale = cp.max(cp.abs(w))\n",
    "        print(scale)\n",
    "\n",
    "        w /= scale\n",
    "        w = quantize(w, True)\n",
    "\n",
    "        axis[1].hist(cp.ravel(w), bins=16)\n",
    "        axis[1].set_title(\"Quantized Weights\")\n",
    "        \n",
    "        axis[2].hist(cp.ravel(o), bins=16)\n",
    "        axis[2].set_title(\"quantized outputs\")\n",
    "\n",
    "        plt.show()"
   ]
  },
  {
   "cell_type": "code",
   "execution_count": null,
   "metadata": {},
   "outputs": [],
   "source": []
  }
 ],
 "metadata": {
  "kernelspec": {
   "display_name": "Python 3",
   "language": "python",
   "name": "python3"
  },
  "language_info": {
   "codemirror_mode": {
    "name": "ipython",
    "version": 3
   },
   "file_extension": ".py",
   "mimetype": "text/x-python",
   "name": "python",
   "nbconvert_exporter": "python",
   "pygments_lexer": "ipython3",
   "version": "3.10.9"
  },
  "orig_nbformat": 4
 },
 "nbformat": 4,
 "nbformat_minor": 2
}
