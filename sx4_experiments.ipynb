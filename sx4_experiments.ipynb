{
 "cells": [
  {
   "cell_type": "code",
   "execution_count": null,
   "metadata": {},
   "outputs": [],
   "source": [
    "import numpy as np"
   ]
  },
  {
   "cell_type": "code",
   "execution_count": null,
   "metadata": {},
   "outputs": [],
   "source": [
    "def stochastic_rounding(x):\n",
    "    # takes the integer part of the number\n",
    "    x_int = x.astype(np.int32)\n",
    "    # takes the fractional part\n",
    "    x_frac = np.abs(x - x_int)\n",
    "\n",
    "    # generate a random number\n",
    "    rng = np.random.random(x_int.shape)\n",
    "\n",
    "    # if the frac is grater... for positive cases\n",
    "    rounded_pos = np.where(x_frac > rng, x_int + 1, x_int)\n",
    "\n",
    "    # if the grac is greate... for negative cases\n",
    "    rounded_neg = np.where(x_frac > rng, x_int - 1, x_int)\n",
    "\n",
    "    # select the rounded according to the signal\n",
    "    rounded = np.where(x < 0, rounded_neg, rounded_pos)\n",
    "    \n",
    "    return rounded\n",
    "\n",
    "x = np.random.normal(0, 5, (5)) \n",
    "print(\"float \", x)\n",
    "rx = 0\n",
    "it = 100\n",
    "for _ in range(it):\n",
    "    rx += stochastic_rounding(x)\n",
    "\n",
    "rx = rx.astype(np.float32) / it\n",
    "print(\"stchr0\", stochastic_rounding(x))\n",
    "print(\"stchr1\", rx)\n",
    "print(\"round \", np.around(x).astype(np.int32))"
   ]
  },
  {
   "cell_type": "code",
   "execution_count": null,
   "metadata": {},
   "outputs": [],
   "source": [
    "\n",
    "def quantize(x, round_stoch = True):\n",
    "    \"\"\" exponentiation and quantization function \"\"\"\n",
    "\n",
    "    # just to avoid numerical problems\n",
    "    eps = 1e-8\n",
    "\n",
    "    # extract the signal\n",
    "    s = np.sign(x)\n",
    "\n",
    "    # takes the abs\n",
    "    abs_x = np.abs(x)\n",
    "\n",
    "    cliped_abs_x = np.where(abs_x < eps, eps, abs_x) # clip the min value of abs. (this is just for avoid numercal problems)\n",
    "    cliped_abs_x = np.where(cliped_abs_x > 1, 1, cliped_abs_x) # clip the max value of DN \n",
    "\n",
    "    # gets the exponent with base 2\n",
    "    exp = np.log2(cliped_abs_x)\n",
    "\n",
    "    # round to nearest and cast to int (use stochastic rounding)\n",
    "    if round_stoch:\n",
    "        round_exp = stochastic_rounding(exp)\n",
    "    else:\n",
    "        round_exp = (np.round(exp)).astype(np.int32)\n",
    "\n",
    "\n",
    "    # stochastic zero\n",
    "    \n",
    "    # detect underflow\n",
    "    underflow = np.where(round_exp < -7, 1, 0)\n",
    "\n",
    "    # clip expoent in -7\n",
    "    clip_exp = np.where(underflow, -7, round_exp)\n",
    "    \n",
    "    # randomize the signal\n",
    "    s = np.where(np.logical_and(np.random.random(round_exp.shape) < 0.5, underflow), -s, s) \n",
    "    \n",
    "    # convert to float32 again\n",
    "    qx = s * np.power(2., clip_exp)\n",
    "    return qx\n",
    "\n",
    "\n",
    "for _ in range(10):\n",
    "    x = np.random.normal(0, 0.2, (5)) \n",
    "    print(\"float \", x)\n",
    "    print(\"quant0\", quantize(x))\n",
    "    print(\"quant1\", quantize(x))\n",
    "    print(\"quant2\", quantize(x))    \n",
    "    print(\"-------\")"
   ]
  },
  {
   "cell_type": "code",
   "execution_count": null,
   "metadata": {},
   "outputs": [],
   "source": [
    "a = np.array([0,1,0,1])\n",
    "b = np.array([1,1,0,0])\n",
    "\n",
    "print(np.logical_and(a, b))\n",
    "\n",
    "print(np.sign(-2))"
   ]
  },
  {
   "cell_type": "code",
   "execution_count": null,
   "metadata": {},
   "outputs": [],
   "source": [
    "# visualizing\n",
    "import matplotlib.pyplot as plt\n",
    "\n",
    "\n",
    "# range of values from -2,2 \n",
    "float_values = np.arange(-1, 1, 0.001)\n",
    "\n",
    "\n",
    "sx4_values = quantize(float_values, True)\n",
    "sx4_round_values = quantize(float_values, False)\n",
    "\n",
    "print(float_values.shape)\n",
    "print(sx4_values.shape)"
   ]
  },
  {
   "cell_type": "code",
   "execution_count": null,
   "metadata": {},
   "outputs": [],
   "source": [
    "plt.figure(figsize=(20,20))\n",
    "plt.plot(sx4_values)\n",
    "plt.plot(sx4_round_values)\n",
    "plt.plot(float_values)\n",
    "plt.show()"
   ]
  },
  {
   "cell_type": "code",
   "execution_count": null,
   "metadata": {},
   "outputs": [],
   "source": []
  }
 ],
 "metadata": {
  "kernelspec": {
   "display_name": "Python 3",
   "language": "python",
   "name": "python3"
  },
  "language_info": {
   "codemirror_mode": {
    "name": "ipython",
    "version": 3
   },
   "file_extension": ".py",
   "mimetype": "text/x-python",
   "name": "python",
   "nbconvert_exporter": "python",
   "pygments_lexer": "ipython3",
   "version": "3.10.9"
  },
  "orig_nbformat": 4
 },
 "nbformat": 4,
 "nbformat_minor": 2
}
