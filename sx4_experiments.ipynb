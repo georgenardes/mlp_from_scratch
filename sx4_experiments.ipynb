{
 "cells": [
  {
   "cell_type": "code",
   "execution_count": null,
   "metadata": {},
   "outputs": [],
   "source": [
    "import numpy as np"
   ]
  },
  {
   "cell_type": "code",
   "execution_count": null,
   "metadata": {},
   "outputs": [],
   "source": [
    "def stochastic_rounding(x):\n",
    "\n",
    "    x_int = x.astype(np.int32)\n",
    "    x_frac = np.abs(x - x_int)\n",
    "    rng = np.random.random(x_int.shape)\n",
    "\n",
    "    # positive\n",
    "    rounded_pos = np.where(x_frac > rng, x_int + 1, x_int)\n",
    "\n",
    "    # negative\n",
    "    rounded_neg = np.where(x_frac > rng, x_int - 1, x_int)\n",
    "\n",
    "    rounded = np.where(x < 0, rounded_neg, rounded_pos)\n",
    "    return rounded\n",
    "\n",
    "x = np.random.normal(0, 5, (5)) \n",
    "print(\"float \", x)\n",
    "rx = 0\n",
    "it = 100\n",
    "for _ in range(it):\n",
    "    rx += stochastic_rounding(x)\n",
    "\n",
    "rx = rx.astype(np.float32) / it\n",
    "print(\"stchr0\", stochastic_rounding(x))\n",
    "print(\"stchr1\", rx)\n",
    "print(\"round \", np.around(x).astype(np.int32))"
   ]
  },
  {
   "cell_type": "code",
   "execution_count": null,
   "metadata": {},
   "outputs": [],
   "source": [
    "\n",
    "def quantize(x, round_stoch = True):\n",
    "    \"\"\" exponentiation and quantization function \"\"\"\n",
    "\n",
    "    # just to avoid numerical problems\n",
    "    eps = 1e-8\n",
    "\n",
    "    s = np.sign(x)\n",
    "\n",
    "    abs_x = np.abs(x)\n",
    "\n",
    "    cliped_abs_x = np.where(abs_x < eps, eps, abs_x)\n",
    "    cliped_abs_x = np.where(cliped_abs_x > 1, 1, cliped_abs_x)\n",
    "\n",
    "    # gets the exponent with base 2\n",
    "    exp = np.log2(cliped_abs_x)\n",
    "\n",
    "    # round to nearest and cast to int (use stochastic rounding)\n",
    "    if round_stoch:\n",
    "        round_exp = stochastic_rounding(exp)\n",
    "    else:\n",
    "        round_exp = (np.round(exp)).astype(np.int32)\n",
    "\n",
    "    # clip to the limit of sx4\n",
    "    clip_exp = np.where(round_exp < -7, -7, round_exp)\n",
    "\n",
    "    # stochastic zero ???  \n",
    "\n",
    "\n",
    "    # convert to float32 again\n",
    "    qx = s * np.power(2., clip_exp)\n",
    "    return qx\n",
    "\n",
    "\n",
    "for _ in range(10):\n",
    "    x = np.random.normal(0, 0.2, (5)) \n",
    "    print(\"float \", x)\n",
    "    print(\"quant0\", quantize(x))\n",
    "    print(\"quant1\", quantize(x))\n",
    "    print(\"quant2\", quantize(x))    \n",
    "    print(\"-------\")"
   ]
  }
 ],
 "metadata": {
  "language_info": {
   "name": "python"
  },
  "orig_nbformat": 4
 },
 "nbformat": 4,
 "nbformat_minor": 2
}
